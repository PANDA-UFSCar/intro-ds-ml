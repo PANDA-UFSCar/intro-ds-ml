{
 "cells": [
  {
   "cell_type": "code",
   "execution_count": 1,
   "metadata": {},
   "outputs": [],
   "source": [
    "import pandas as pd\n",
    "import numpy as np"
   ]
  },
  {
   "cell_type": "markdown",
   "metadata": {},
   "source": [
    "## 1. Criando nosso próprio DataFrame"
   ]
  },
  {
   "cell_type": "markdown",
   "metadata": {},
   "source": [
    "Vamos começar criando uma lista (e então uma Series) contendo os nomes dos livros do John Green.\n",
    "\n",
    "[**pandas.Series**](https://pandas.pydata.org/pandas-docs/stable/reference/api/pandas.Series.html)"
   ]
  },
  {
   "cell_type": "code",
   "execution_count": 2,
   "metadata": {},
   "outputs": [
    {
     "data": {
      "text/plain": [
       "0      Quem é Você, Alasca?\n",
       "1       O Teorema Katherine\n",
       "2         Deixe a Neve Cair\n",
       "3          Cidades de Papel\n",
       "4               Will e Will\n",
       "5    A Culpa É das Estrelas\n",
       "dtype: object"
      ]
     },
     "execution_count": 2,
     "metadata": {},
     "output_type": "execute_result"
    }
   ],
   "source": [
    "livros_jg = ['Quem é Você, Alasca?', 'O Teorema Katherine', 'Deixe a Neve Cair',\n",
    "             'Cidades de Papel', 'Will e Will', 'A Culpa É das Estrelas']\n",
    "\n",
    "livros_jg_series = pd.Series(livros_jg)\n",
    "\n",
    "livros_jg_series"
   ]
  },
  {
   "cell_type": "markdown",
   "metadata": {},
   "source": [
    "Agora utilizemos a estrutura de datas do Python. O pandas nos fornece um método muito útil para converter datas de strings para esse formato.\n",
    "\n",
    "[**pandas.to_datetime**](https://pandas.pydata.org/pandas-docs/stable/reference/api/pandas.to_datetime.html)"
   ]
  },
  {
   "cell_type": "code",
   "execution_count": 3,
   "metadata": {},
   "outputs": [
    {
     "data": {
      "text/plain": [
       "0   2005-03-03\n",
       "1   2006-09-21\n",
       "2   2008-10-02\n",
       "3   2008-10-16\n",
       "4   2010-04-06\n",
       "5   2012-01-10\n",
       "dtype: datetime64[ns]"
      ]
     },
     "execution_count": 3,
     "metadata": {},
     "output_type": "execute_result"
    }
   ],
   "source": [
    "datas = pd.to_datetime(['03/03/2005', '21/09/2006', '02/10/2008',\n",
    "                        '16/10/2008', '06/04/2010', '10/01/2012'], dayfirst=True)\n",
    "datas_series = pd.Series(datas)\n",
    "\n",
    "datas_series"
   ]
  },
  {
   "cell_type": "markdown",
   "metadata": {},
   "source": [
    "Agora uma Series de booleanos."
   ]
  },
  {
   "cell_type": "code",
   "execution_count": 4,
   "metadata": {},
   "outputs": [
    {
     "data": {
      "text/plain": [
       "0     True\n",
       "1    False\n",
       "2    False\n",
       "3     True\n",
       "4     True\n",
       "5    False\n",
       "dtype: bool"
      ]
     },
     "execution_count": 4,
     "metadata": {},
     "output_type": "execute_result"
    }
   ],
   "source": [
    "lidos = pd.Series([True, False, False, True, True, False])\n",
    "lidos"
   ]
  },
  {
   "cell_type": "markdown",
   "metadata": {},
   "source": [
    "E duas Series de floats. Note que na primeira estou utilizando o NaN do NumPy. O pandas irá reconhecer isso como um valor nulo."
   ]
  },
  {
   "cell_type": "code",
   "execution_count": 5,
   "metadata": {},
   "outputs": [
    {
     "data": {
      "text/plain": [
       "0    5.0\n",
       "1    NaN\n",
       "2    NaN\n",
       "3    4.5\n",
       "4    4.0\n",
       "5    NaN\n",
       "dtype: float64"
      ]
     },
     "execution_count": 5,
     "metadata": {},
     "output_type": "execute_result"
    }
   ],
   "source": [
    "minha_nota = pd.Series([5, np.nan, np.nan, 4.5, 4, np.nan])\n",
    "minha_nota"
   ]
  },
  {
   "cell_type": "code",
   "execution_count": 6,
   "metadata": {},
   "outputs": [
    {
     "data": {
      "text/plain": [
       "0    4.02\n",
       "1    3.57\n",
       "2    3.76\n",
       "3    3.80\n",
       "4    3.77\n",
       "5    4.21\n",
       "dtype: float64"
      ]
     },
     "execution_count": 6,
     "metadata": {},
     "output_type": "execute_result"
    }
   ],
   "source": [
    "nota_gr = pd.Series([4.02, 3.57, 3.76, 3.80, 3.77, 4.21])\n",
    "nota_gr"
   ]
  },
  {
   "cell_type": "markdown",
   "metadata": {},
   "source": [
    "Agora podemos formar um DataFrame. Esta é só uma das várias maneiras de se fazer isso, os elementos não precisariam ser Series, por exemplo.\n",
    "\n",
    "[**pandas.DataFrame**](https://pandas.pydata.org/pandas-docs/stable/reference/api/pandas.DataFrame.html)"
   ]
  },
  {
   "cell_type": "code",
   "execution_count": 7,
   "metadata": {},
   "outputs": [
    {
     "data": {
      "text/html": [
       "<div>\n",
       "<style scoped>\n",
       "    .dataframe tbody tr th:only-of-type {\n",
       "        vertical-align: middle;\n",
       "    }\n",
       "\n",
       "    .dataframe tbody tr th {\n",
       "        vertical-align: top;\n",
       "    }\n",
       "\n",
       "    .dataframe thead th {\n",
       "        text-align: right;\n",
       "    }\n",
       "</style>\n",
       "<table border=\"1\" class=\"dataframe\">\n",
       "  <thead>\n",
       "    <tr style=\"text-align: right;\">\n",
       "      <th></th>\n",
       "      <th>livro</th>\n",
       "      <th>data_publicacao</th>\n",
       "      <th>lido</th>\n",
       "      <th>minha_nota</th>\n",
       "      <th>nota_goodreads</th>\n",
       "    </tr>\n",
       "  </thead>\n",
       "  <tbody>\n",
       "    <tr>\n",
       "      <th>0</th>\n",
       "      <td>Quem é Você, Alasca?</td>\n",
       "      <td>2005-03-03</td>\n",
       "      <td>True</td>\n",
       "      <td>5.0</td>\n",
       "      <td>4.02</td>\n",
       "    </tr>\n",
       "    <tr>\n",
       "      <th>1</th>\n",
       "      <td>O Teorema Katherine</td>\n",
       "      <td>2006-09-21</td>\n",
       "      <td>False</td>\n",
       "      <td>NaN</td>\n",
       "      <td>3.57</td>\n",
       "    </tr>\n",
       "    <tr>\n",
       "      <th>2</th>\n",
       "      <td>Deixe a Neve Cair</td>\n",
       "      <td>2008-10-02</td>\n",
       "      <td>False</td>\n",
       "      <td>NaN</td>\n",
       "      <td>3.76</td>\n",
       "    </tr>\n",
       "    <tr>\n",
       "      <th>3</th>\n",
       "      <td>Cidades de Papel</td>\n",
       "      <td>2008-10-16</td>\n",
       "      <td>True</td>\n",
       "      <td>4.5</td>\n",
       "      <td>3.80</td>\n",
       "    </tr>\n",
       "    <tr>\n",
       "      <th>4</th>\n",
       "      <td>Will e Will</td>\n",
       "      <td>2010-04-06</td>\n",
       "      <td>True</td>\n",
       "      <td>4.0</td>\n",
       "      <td>3.77</td>\n",
       "    </tr>\n",
       "    <tr>\n",
       "      <th>5</th>\n",
       "      <td>A Culpa É das Estrelas</td>\n",
       "      <td>2012-01-10</td>\n",
       "      <td>False</td>\n",
       "      <td>NaN</td>\n",
       "      <td>4.21</td>\n",
       "    </tr>\n",
       "  </tbody>\n",
       "</table>\n",
       "</div>"
      ],
      "text/plain": [
       "                    livro data_publicacao   lido  minha_nota  nota_goodreads\n",
       "0    Quem é Você, Alasca?      2005-03-03   True         5.0            4.02\n",
       "1     O Teorema Katherine      2006-09-21  False         NaN            3.57\n",
       "2       Deixe a Neve Cair      2008-10-02  False         NaN            3.76\n",
       "3        Cidades de Papel      2008-10-16   True         4.5            3.80\n",
       "4             Will e Will      2010-04-06   True         4.0            3.77\n",
       "5  A Culpa É das Estrelas      2012-01-10  False         NaN            4.21"
      ]
     },
     "execution_count": 7,
     "metadata": {},
     "output_type": "execute_result"
    }
   ],
   "source": [
    "df = pd.DataFrame({'livro': livros_jg_series, 'data_publicacao': datas,\n",
    "                   'lido': lidos, 'minha_nota': minha_nota,\n",
    "                   'nota_goodreads': nota_gr})\n",
    "df"
   ]
  },
  {
   "cell_type": "markdown",
   "metadata": {},
   "source": [
    "Opa! Esqueci de um livro. vamos adicioná-lo. Perceba que aqui estou criando uma Series para utilizar como **linha**, e não como coluna como fizemos anteriormente."
   ]
  },
  {
   "cell_type": "code",
   "execution_count": 8,
   "metadata": {},
   "outputs": [
    {
     "data": {
      "text/plain": [
       "livro              Tartarugas Até Lá Embaixo\n",
       "data_publicacao          2017-10-10 00:00:00\n",
       "lido                                    True\n",
       "minha_nota                               4.5\n",
       "nota_goodreads                          3.95\n",
       "dtype: object"
      ]
     },
     "execution_count": 8,
     "metadata": {},
     "output_type": "execute_result"
    }
   ],
   "source": [
    "tartarugas = pd.Series({'livro':'Tartarugas Até Lá Embaixo', 'data_publicacao': pd.to_datetime('10/10/2017'),\n",
    "           'lido': True, 'minha_nota': 4.5, 'nota_goodreads': 3.95})\n",
    "tartarugas"
   ]
  },
  {
   "cell_type": "markdown",
   "metadata": {},
   "source": [
    "Agora é só dar um append e tá pronto o sorvetinho.\n",
    "\n",
    "[**pandas.DataFrame.append**](https://pandas.pydata.org/pandas-docs/stable/reference/api/pandas.DataFrame.append.html)"
   ]
  },
  {
   "cell_type": "code",
   "execution_count": 9,
   "metadata": {},
   "outputs": [
    {
     "data": {
      "text/html": [
       "<div>\n",
       "<style scoped>\n",
       "    .dataframe tbody tr th:only-of-type {\n",
       "        vertical-align: middle;\n",
       "    }\n",
       "\n",
       "    .dataframe tbody tr th {\n",
       "        vertical-align: top;\n",
       "    }\n",
       "\n",
       "    .dataframe thead th {\n",
       "        text-align: right;\n",
       "    }\n",
       "</style>\n",
       "<table border=\"1\" class=\"dataframe\">\n",
       "  <thead>\n",
       "    <tr style=\"text-align: right;\">\n",
       "      <th></th>\n",
       "      <th>livro</th>\n",
       "      <th>data_publicacao</th>\n",
       "      <th>lido</th>\n",
       "      <th>minha_nota</th>\n",
       "      <th>nota_goodreads</th>\n",
       "    </tr>\n",
       "  </thead>\n",
       "  <tbody>\n",
       "    <tr>\n",
       "      <th>0</th>\n",
       "      <td>Quem é Você, Alasca?</td>\n",
       "      <td>2005-03-03</td>\n",
       "      <td>True</td>\n",
       "      <td>5.0</td>\n",
       "      <td>4.02</td>\n",
       "    </tr>\n",
       "    <tr>\n",
       "      <th>1</th>\n",
       "      <td>O Teorema Katherine</td>\n",
       "      <td>2006-09-21</td>\n",
       "      <td>False</td>\n",
       "      <td>NaN</td>\n",
       "      <td>3.57</td>\n",
       "    </tr>\n",
       "    <tr>\n",
       "      <th>2</th>\n",
       "      <td>Deixe a Neve Cair</td>\n",
       "      <td>2008-10-02</td>\n",
       "      <td>False</td>\n",
       "      <td>NaN</td>\n",
       "      <td>3.76</td>\n",
       "    </tr>\n",
       "    <tr>\n",
       "      <th>3</th>\n",
       "      <td>Cidades de Papel</td>\n",
       "      <td>2008-10-16</td>\n",
       "      <td>True</td>\n",
       "      <td>4.5</td>\n",
       "      <td>3.80</td>\n",
       "    </tr>\n",
       "    <tr>\n",
       "      <th>4</th>\n",
       "      <td>Will e Will</td>\n",
       "      <td>2010-04-06</td>\n",
       "      <td>True</td>\n",
       "      <td>4.0</td>\n",
       "      <td>3.77</td>\n",
       "    </tr>\n",
       "    <tr>\n",
       "      <th>5</th>\n",
       "      <td>A Culpa É das Estrelas</td>\n",
       "      <td>2012-01-10</td>\n",
       "      <td>False</td>\n",
       "      <td>NaN</td>\n",
       "      <td>4.21</td>\n",
       "    </tr>\n",
       "    <tr>\n",
       "      <th>6</th>\n",
       "      <td>Tartarugas Até Lá Embaixo</td>\n",
       "      <td>2017-10-10</td>\n",
       "      <td>True</td>\n",
       "      <td>4.5</td>\n",
       "      <td>3.95</td>\n",
       "    </tr>\n",
       "  </tbody>\n",
       "</table>\n",
       "</div>"
      ],
      "text/plain": [
       "                       livro data_publicacao   lido  minha_nota  \\\n",
       "0       Quem é Você, Alasca?      2005-03-03   True         5.0   \n",
       "1        O Teorema Katherine      2006-09-21  False         NaN   \n",
       "2          Deixe a Neve Cair      2008-10-02  False         NaN   \n",
       "3           Cidades de Papel      2008-10-16   True         4.5   \n",
       "4                Will e Will      2010-04-06   True         4.0   \n",
       "5     A Culpa É das Estrelas      2012-01-10  False         NaN   \n",
       "6  Tartarugas Até Lá Embaixo      2017-10-10   True         4.5   \n",
       "\n",
       "   nota_goodreads  \n",
       "0            4.02  \n",
       "1            3.57  \n",
       "2            3.76  \n",
       "3            3.80  \n",
       "4            3.77  \n",
       "5            4.21  \n",
       "6            3.95  "
      ]
     },
     "execution_count": 9,
     "metadata": {},
     "output_type": "execute_result"
    }
   ],
   "source": [
    "df = df.append(tartarugas, ignore_index=True)\n",
    "df"
   ]
  },
  {
   "cell_type": "markdown",
   "metadata": {},
   "source": [
    "## 2. Análise exploratória"
   ]
  },
  {
   "cell_type": "markdown",
   "metadata": {},
   "source": [
    "Vamos começar indexando uma coluna."
   ]
  },
  {
   "cell_type": "code",
   "execution_count": 10,
   "metadata": {},
   "outputs": [
    {
     "data": {
      "text/plain": [
       "0         Quem é Você, Alasca?\n",
       "1          O Teorema Katherine\n",
       "2            Deixe a Neve Cair\n",
       "3             Cidades de Papel\n",
       "4                  Will e Will\n",
       "5       A Culpa É das Estrelas\n",
       "6    Tartarugas Até Lá Embaixo\n",
       "Name: livro, dtype: object"
      ]
     },
     "execution_count": 10,
     "metadata": {},
     "output_type": "execute_result"
    }
   ],
   "source": [
    "df['livro']"
   ]
  },
  {
   "cell_type": "markdown",
   "metadata": {},
   "source": [
    "E duas ou mais?"
   ]
  },
  {
   "cell_type": "code",
   "execution_count": 11,
   "metadata": {},
   "outputs": [
    {
     "data": {
      "text/html": [
       "<div>\n",
       "<style scoped>\n",
       "    .dataframe tbody tr th:only-of-type {\n",
       "        vertical-align: middle;\n",
       "    }\n",
       "\n",
       "    .dataframe tbody tr th {\n",
       "        vertical-align: top;\n",
       "    }\n",
       "\n",
       "    .dataframe thead th {\n",
       "        text-align: right;\n",
       "    }\n",
       "</style>\n",
       "<table border=\"1\" class=\"dataframe\">\n",
       "  <thead>\n",
       "    <tr style=\"text-align: right;\">\n",
       "      <th></th>\n",
       "      <th>data_publicacao</th>\n",
       "      <th>livro</th>\n",
       "    </tr>\n",
       "  </thead>\n",
       "  <tbody>\n",
       "    <tr>\n",
       "      <th>0</th>\n",
       "      <td>2005-03-03</td>\n",
       "      <td>Quem é Você, Alasca?</td>\n",
       "    </tr>\n",
       "    <tr>\n",
       "      <th>1</th>\n",
       "      <td>2006-09-21</td>\n",
       "      <td>O Teorema Katherine</td>\n",
       "    </tr>\n",
       "    <tr>\n",
       "      <th>2</th>\n",
       "      <td>2008-10-02</td>\n",
       "      <td>Deixe a Neve Cair</td>\n",
       "    </tr>\n",
       "    <tr>\n",
       "      <th>3</th>\n",
       "      <td>2008-10-16</td>\n",
       "      <td>Cidades de Papel</td>\n",
       "    </tr>\n",
       "    <tr>\n",
       "      <th>4</th>\n",
       "      <td>2010-04-06</td>\n",
       "      <td>Will e Will</td>\n",
       "    </tr>\n",
       "    <tr>\n",
       "      <th>5</th>\n",
       "      <td>2012-01-10</td>\n",
       "      <td>A Culpa É das Estrelas</td>\n",
       "    </tr>\n",
       "    <tr>\n",
       "      <th>6</th>\n",
       "      <td>2017-10-10</td>\n",
       "      <td>Tartarugas Até Lá Embaixo</td>\n",
       "    </tr>\n",
       "  </tbody>\n",
       "</table>\n",
       "</div>"
      ],
      "text/plain": [
       "  data_publicacao                      livro\n",
       "0      2005-03-03       Quem é Você, Alasca?\n",
       "1      2006-09-21        O Teorema Katherine\n",
       "2      2008-10-02          Deixe a Neve Cair\n",
       "3      2008-10-16           Cidades de Papel\n",
       "4      2010-04-06                Will e Will\n",
       "5      2012-01-10     A Culpa É das Estrelas\n",
       "6      2017-10-10  Tartarugas Até Lá Embaixo"
      ]
     },
     "execution_count": 11,
     "metadata": {},
     "output_type": "execute_result"
    }
   ],
   "source": [
    "df[['data_publicacao','livro']]"
   ]
  },
  {
   "cell_type": "markdown",
   "metadata": {},
   "source": [
    "E se eu quiser a linha 5 e 6, mas só os nomes e a informação se eu li ou não?\n",
    "\n",
    "[**pandas.DataFrame.loc**](https://pandas.pydata.org/pandas-docs/stable/reference/api/pandas.DataFrame.loc.html)\n",
    "\n",
    "PS: o slicing funciona diferente no pandas. O intervalo é inclusivo, o que significa que o valor de final também entra."
   ]
  },
  {
   "cell_type": "code",
   "execution_count": 12,
   "metadata": {},
   "outputs": [
    {
     "data": {
      "text/html": [
       "<div>\n",
       "<style scoped>\n",
       "    .dataframe tbody tr th:only-of-type {\n",
       "        vertical-align: middle;\n",
       "    }\n",
       "\n",
       "    .dataframe tbody tr th {\n",
       "        vertical-align: top;\n",
       "    }\n",
       "\n",
       "    .dataframe thead th {\n",
       "        text-align: right;\n",
       "    }\n",
       "</style>\n",
       "<table border=\"1\" class=\"dataframe\">\n",
       "  <thead>\n",
       "    <tr style=\"text-align: right;\">\n",
       "      <th></th>\n",
       "      <th>livro</th>\n",
       "      <th>lido</th>\n",
       "    </tr>\n",
       "  </thead>\n",
       "  <tbody>\n",
       "    <tr>\n",
       "      <th>5</th>\n",
       "      <td>A Culpa É das Estrelas</td>\n",
       "      <td>False</td>\n",
       "    </tr>\n",
       "    <tr>\n",
       "      <th>6</th>\n",
       "      <td>Tartarugas Até Lá Embaixo</td>\n",
       "      <td>True</td>\n",
       "    </tr>\n",
       "  </tbody>\n",
       "</table>\n",
       "</div>"
      ],
      "text/plain": [
       "                       livro   lido\n",
       "5     A Culpa É das Estrelas  False\n",
       "6  Tartarugas Até Lá Embaixo   True"
      ]
     },
     "execution_count": 12,
     "metadata": {},
     "output_type": "execute_result"
    }
   ],
   "source": [
    "df.loc[5:6, ['livro', 'lido']]"
   ]
  },
  {
   "cell_type": "markdown",
   "metadata": {},
   "source": [
    "Usando inteiros...\n",
    "\n",
    "[**pandas.DataFrame.iloc**](https://pandas.pydata.org/pandas-docs/stable/reference/api/pandas.DataFrame.iloc.html)"
   ]
  },
  {
   "cell_type": "code",
   "execution_count": 13,
   "metadata": {},
   "outputs": [
    {
     "data": {
      "text/html": [
       "<div>\n",
       "<style scoped>\n",
       "    .dataframe tbody tr th:only-of-type {\n",
       "        vertical-align: middle;\n",
       "    }\n",
       "\n",
       "    .dataframe tbody tr th {\n",
       "        vertical-align: top;\n",
       "    }\n",
       "\n",
       "    .dataframe thead th {\n",
       "        text-align: right;\n",
       "    }\n",
       "</style>\n",
       "<table border=\"1\" class=\"dataframe\">\n",
       "  <thead>\n",
       "    <tr style=\"text-align: right;\">\n",
       "      <th></th>\n",
       "      <th>data_publicacao</th>\n",
       "      <th>livro</th>\n",
       "    </tr>\n",
       "  </thead>\n",
       "  <tbody>\n",
       "    <tr>\n",
       "      <th>0</th>\n",
       "      <td>2005-03-03</td>\n",
       "      <td>Quem é Você, Alasca?</td>\n",
       "    </tr>\n",
       "    <tr>\n",
       "      <th>1</th>\n",
       "      <td>2006-09-21</td>\n",
       "      <td>O Teorema Katherine</td>\n",
       "    </tr>\n",
       "    <tr>\n",
       "      <th>2</th>\n",
       "      <td>2008-10-02</td>\n",
       "      <td>Deixe a Neve Cair</td>\n",
       "    </tr>\n",
       "    <tr>\n",
       "      <th>3</th>\n",
       "      <td>2008-10-16</td>\n",
       "      <td>Cidades de Papel</td>\n",
       "    </tr>\n",
       "    <tr>\n",
       "      <th>4</th>\n",
       "      <td>2010-04-06</td>\n",
       "      <td>Will e Will</td>\n",
       "    </tr>\n",
       "    <tr>\n",
       "      <th>5</th>\n",
       "      <td>2012-01-10</td>\n",
       "      <td>A Culpa É das Estrelas</td>\n",
       "    </tr>\n",
       "    <tr>\n",
       "      <th>6</th>\n",
       "      <td>2017-10-10</td>\n",
       "      <td>Tartarugas Até Lá Embaixo</td>\n",
       "    </tr>\n",
       "  </tbody>\n",
       "</table>\n",
       "</div>"
      ],
      "text/plain": [
       "  data_publicacao                      livro\n",
       "0      2005-03-03       Quem é Você, Alasca?\n",
       "1      2006-09-21        O Teorema Katherine\n",
       "2      2008-10-02          Deixe a Neve Cair\n",
       "3      2008-10-16           Cidades de Papel\n",
       "4      2010-04-06                Will e Will\n",
       "5      2012-01-10     A Culpa É das Estrelas\n",
       "6      2017-10-10  Tartarugas Até Lá Embaixo"
      ]
     },
     "execution_count": 13,
     "metadata": {},
     "output_type": "execute_result"
    }
   ],
   "source": [
    "df.iloc[:, [1,0]]"
   ]
  },
  {
   "cell_type": "code",
   "execution_count": 40,
   "metadata": {},
   "outputs": [
    {
     "data": {
      "text/plain": [
       "0    4.02\n",
       "1    3.57\n",
       "2    3.76\n",
       "3    3.80\n",
       "4    3.77\n",
       "5    4.21\n",
       "6    3.95\n",
       "Name: nota_goodreads, dtype: float64"
      ]
     },
     "execution_count": 40,
     "metadata": {},
     "output_type": "execute_result"
    }
   ],
   "source": [
    "df['nota_goodreads']"
   ]
  },
  {
   "cell_type": "markdown",
   "metadata": {},
   "source": [
    "Indexação booleana. Basicamente mapear o nosso dataframe baseado em uma condição."
   ]
  },
  {
   "cell_type": "code",
   "execution_count": 14,
   "metadata": {},
   "outputs": [
    {
     "data": {
      "text/plain": [
       "0     True\n",
       "1    False\n",
       "2    False\n",
       "3     True\n",
       "4    False\n",
       "5     True\n",
       "6     True\n",
       "Name: nota_goodreads, dtype: bool"
      ]
     },
     "execution_count": 14,
     "metadata": {},
     "output_type": "execute_result"
    }
   ],
   "source": [
    "df['nota_goodreads'] >= 3.80"
   ]
  },
  {
   "cell_type": "code",
   "execution_count": 15,
   "metadata": {},
   "outputs": [
    {
     "data": {
      "text/html": [
       "<div>\n",
       "<style scoped>\n",
       "    .dataframe tbody tr th:only-of-type {\n",
       "        vertical-align: middle;\n",
       "    }\n",
       "\n",
       "    .dataframe tbody tr th {\n",
       "        vertical-align: top;\n",
       "    }\n",
       "\n",
       "    .dataframe thead th {\n",
       "        text-align: right;\n",
       "    }\n",
       "</style>\n",
       "<table border=\"1\" class=\"dataframe\">\n",
       "  <thead>\n",
       "    <tr style=\"text-align: right;\">\n",
       "      <th></th>\n",
       "      <th>livro</th>\n",
       "      <th>data_publicacao</th>\n",
       "      <th>lido</th>\n",
       "      <th>minha_nota</th>\n",
       "      <th>nota_goodreads</th>\n",
       "    </tr>\n",
       "  </thead>\n",
       "  <tbody>\n",
       "    <tr>\n",
       "      <th>0</th>\n",
       "      <td>Quem é Você, Alasca?</td>\n",
       "      <td>2005-03-03</td>\n",
       "      <td>True</td>\n",
       "      <td>5.0</td>\n",
       "      <td>4.02</td>\n",
       "    </tr>\n",
       "    <tr>\n",
       "      <th>3</th>\n",
       "      <td>Cidades de Papel</td>\n",
       "      <td>2008-10-16</td>\n",
       "      <td>True</td>\n",
       "      <td>4.5</td>\n",
       "      <td>3.80</td>\n",
       "    </tr>\n",
       "    <tr>\n",
       "      <th>5</th>\n",
       "      <td>A Culpa É das Estrelas</td>\n",
       "      <td>2012-01-10</td>\n",
       "      <td>False</td>\n",
       "      <td>NaN</td>\n",
       "      <td>4.21</td>\n",
       "    </tr>\n",
       "    <tr>\n",
       "      <th>6</th>\n",
       "      <td>Tartarugas Até Lá Embaixo</td>\n",
       "      <td>2017-10-10</td>\n",
       "      <td>True</td>\n",
       "      <td>4.5</td>\n",
       "      <td>3.95</td>\n",
       "    </tr>\n",
       "  </tbody>\n",
       "</table>\n",
       "</div>"
      ],
      "text/plain": [
       "                       livro data_publicacao   lido  minha_nota  \\\n",
       "0       Quem é Você, Alasca?      2005-03-03   True         5.0   \n",
       "3           Cidades de Papel      2008-10-16   True         4.5   \n",
       "5     A Culpa É das Estrelas      2012-01-10  False         NaN   \n",
       "6  Tartarugas Até Lá Embaixo      2017-10-10   True         4.5   \n",
       "\n",
       "   nota_goodreads  \n",
       "0            4.02  \n",
       "3            3.80  \n",
       "5            4.21  \n",
       "6            3.95  "
      ]
     },
     "execution_count": 15,
     "metadata": {},
     "output_type": "execute_result"
    }
   ],
   "source": [
    "df[df['nota_goodreads'] >= 3.80]"
   ]
  },
  {
   "cell_type": "code",
   "execution_count": 16,
   "metadata": {},
   "outputs": [
    {
     "data": {
      "text/html": [
       "<div>\n",
       "<style scoped>\n",
       "    .dataframe tbody tr th:only-of-type {\n",
       "        vertical-align: middle;\n",
       "    }\n",
       "\n",
       "    .dataframe tbody tr th {\n",
       "        vertical-align: top;\n",
       "    }\n",
       "\n",
       "    .dataframe thead th {\n",
       "        text-align: right;\n",
       "    }\n",
       "</style>\n",
       "<table border=\"1\" class=\"dataframe\">\n",
       "  <thead>\n",
       "    <tr style=\"text-align: right;\">\n",
       "      <th></th>\n",
       "      <th>livro</th>\n",
       "      <th>data_publicacao</th>\n",
       "      <th>lido</th>\n",
       "      <th>minha_nota</th>\n",
       "      <th>nota_goodreads</th>\n",
       "    </tr>\n",
       "  </thead>\n",
       "  <tbody>\n",
       "    <tr>\n",
       "      <th>0</th>\n",
       "      <td>Quem é Você, Alasca?</td>\n",
       "      <td>2005-03-03</td>\n",
       "      <td>True</td>\n",
       "      <td>5.0</td>\n",
       "      <td>4.02</td>\n",
       "    </tr>\n",
       "    <tr>\n",
       "      <th>3</th>\n",
       "      <td>Cidades de Papel</td>\n",
       "      <td>2008-10-16</td>\n",
       "      <td>True</td>\n",
       "      <td>4.5</td>\n",
       "      <td>3.80</td>\n",
       "    </tr>\n",
       "    <tr>\n",
       "      <th>4</th>\n",
       "      <td>Will e Will</td>\n",
       "      <td>2010-04-06</td>\n",
       "      <td>True</td>\n",
       "      <td>4.0</td>\n",
       "      <td>3.77</td>\n",
       "    </tr>\n",
       "    <tr>\n",
       "      <th>6</th>\n",
       "      <td>Tartarugas Até Lá Embaixo</td>\n",
       "      <td>2017-10-10</td>\n",
       "      <td>True</td>\n",
       "      <td>4.5</td>\n",
       "      <td>3.95</td>\n",
       "    </tr>\n",
       "  </tbody>\n",
       "</table>\n",
       "</div>"
      ],
      "text/plain": [
       "                       livro data_publicacao  lido  minha_nota  nota_goodreads\n",
       "0       Quem é Você, Alasca?      2005-03-03  True         5.0            4.02\n",
       "3           Cidades de Papel      2008-10-16  True         4.5            3.80\n",
       "4                Will e Will      2010-04-06  True         4.0            3.77\n",
       "6  Tartarugas Até Lá Embaixo      2017-10-10  True         4.5            3.95"
      ]
     },
     "execution_count": 16,
     "metadata": {},
     "output_type": "execute_result"
    }
   ],
   "source": [
    "df[df['lido']]"
   ]
  },
  {
   "cell_type": "markdown",
   "metadata": {},
   "source": [
    "Agora vamos ver as informações gerais do nosso dataframe. O método info é muito útil para mostrar os tipos de dados que estamos trabalhando, assim como a quantidade de valores nulos.\n",
    "\n",
    "[**pandas.DataFrame.info**](https://pandas.pydata.org/pandas-docs/stable/reference/api/pandas.DataFrame.info.html)"
   ]
  },
  {
   "cell_type": "code",
   "execution_count": 17,
   "metadata": {},
   "outputs": [
    {
     "name": "stdout",
     "output_type": "stream",
     "text": [
      "<class 'pandas.core.frame.DataFrame'>\n",
      "RangeIndex: 7 entries, 0 to 6\n",
      "Data columns (total 5 columns):\n",
      " #   Column           Non-Null Count  Dtype         \n",
      "---  ------           --------------  -----         \n",
      " 0   livro            7 non-null      object        \n",
      " 1   data_publicacao  7 non-null      datetime64[ns]\n",
      " 2   lido             7 non-null      bool          \n",
      " 3   minha_nota       4 non-null      float64       \n",
      " 4   nota_goodreads   7 non-null      float64       \n",
      "dtypes: bool(1), datetime64[ns](1), float64(2), object(1)\n",
      "memory usage: 267.0+ bytes\n"
     ]
    }
   ],
   "source": [
    "df.info()"
   ]
  },
  {
   "cell_type": "markdown",
   "metadata": {},
   "source": [
    "Medidas estatísticas básicas para os valores numéricos.\n",
    "\n",
    "[**pandas.DataFrame.describe**](https://pandas.pydata.org/pandas-docs/stable/reference/api/pandas.DataFrame.describe.html)"
   ]
  },
  {
   "cell_type": "code",
   "execution_count": 18,
   "metadata": {},
   "outputs": [
    {
     "data": {
      "text/html": [
       "<div>\n",
       "<style scoped>\n",
       "    .dataframe tbody tr th:only-of-type {\n",
       "        vertical-align: middle;\n",
       "    }\n",
       "\n",
       "    .dataframe tbody tr th {\n",
       "        vertical-align: top;\n",
       "    }\n",
       "\n",
       "    .dataframe thead th {\n",
       "        text-align: right;\n",
       "    }\n",
       "</style>\n",
       "<table border=\"1\" class=\"dataframe\">\n",
       "  <thead>\n",
       "    <tr style=\"text-align: right;\">\n",
       "      <th></th>\n",
       "      <th>minha_nota</th>\n",
       "      <th>nota_goodreads</th>\n",
       "    </tr>\n",
       "  </thead>\n",
       "  <tbody>\n",
       "    <tr>\n",
       "      <th>count</th>\n",
       "      <td>4.000000</td>\n",
       "      <td>7.000000</td>\n",
       "    </tr>\n",
       "    <tr>\n",
       "      <th>mean</th>\n",
       "      <td>4.500000</td>\n",
       "      <td>3.868571</td>\n",
       "    </tr>\n",
       "    <tr>\n",
       "      <th>std</th>\n",
       "      <td>0.408248</td>\n",
       "      <td>0.208761</td>\n",
       "    </tr>\n",
       "    <tr>\n",
       "      <th>min</th>\n",
       "      <td>4.000000</td>\n",
       "      <td>3.570000</td>\n",
       "    </tr>\n",
       "    <tr>\n",
       "      <th>25%</th>\n",
       "      <td>4.375000</td>\n",
       "      <td>3.765000</td>\n",
       "    </tr>\n",
       "    <tr>\n",
       "      <th>50%</th>\n",
       "      <td>4.500000</td>\n",
       "      <td>3.800000</td>\n",
       "    </tr>\n",
       "    <tr>\n",
       "      <th>75%</th>\n",
       "      <td>4.625000</td>\n",
       "      <td>3.985000</td>\n",
       "    </tr>\n",
       "    <tr>\n",
       "      <th>max</th>\n",
       "      <td>5.000000</td>\n",
       "      <td>4.210000</td>\n",
       "    </tr>\n",
       "  </tbody>\n",
       "</table>\n",
       "</div>"
      ],
      "text/plain": [
       "       minha_nota  nota_goodreads\n",
       "count    4.000000        7.000000\n",
       "mean     4.500000        3.868571\n",
       "std      0.408248        0.208761\n",
       "min      4.000000        3.570000\n",
       "25%      4.375000        3.765000\n",
       "50%      4.500000        3.800000\n",
       "75%      4.625000        3.985000\n",
       "max      5.000000        4.210000"
      ]
     },
     "execution_count": 18,
     "metadata": {},
     "output_type": "execute_result"
    }
   ],
   "source": [
    "df.describe()"
   ]
  },
  {
   "cell_type": "markdown",
   "metadata": {},
   "source": [
    "Também pode ser aplicado em Series!\n",
    "\n",
    "[**pandas.Series.describe**](https://pandas.pydata.org/pandas-docs/stable/reference/api/pandas.Series.describe.html)"
   ]
  },
  {
   "cell_type": "code",
   "execution_count": 19,
   "metadata": {},
   "outputs": [
    {
     "data": {
      "text/plain": [
       "count    7.000000\n",
       "mean     3.868571\n",
       "std      0.208761\n",
       "min      3.570000\n",
       "25%      3.765000\n",
       "50%      3.800000\n",
       "75%      3.985000\n",
       "max      4.210000\n",
       "Name: nota_goodreads, dtype: float64"
      ]
     },
     "execution_count": 19,
     "metadata": {},
     "output_type": "execute_result"
    }
   ],
   "source": [
    "df['nota_goodreads'].describe()"
   ]
  },
  {
   "cell_type": "markdown",
   "metadata": {},
   "source": [
    "Um uso do groupby. A explicação vai ter que ficar para um outro momento...\n",
    "\n",
    "[**pandas.DataFrame.groupby**](https://pandas.pydata.org/pandas-docs/stable/reference/api/pandas.DataFrame.groupby.html)"
   ]
  },
  {
   "cell_type": "code",
   "execution_count": 20,
   "metadata": {},
   "outputs": [
    {
     "data": {
      "text/html": [
       "<div>\n",
       "<style scoped>\n",
       "    .dataframe tbody tr th:only-of-type {\n",
       "        vertical-align: middle;\n",
       "    }\n",
       "\n",
       "    .dataframe tbody tr th {\n",
       "        vertical-align: top;\n",
       "    }\n",
       "\n",
       "    .dataframe thead th {\n",
       "        text-align: right;\n",
       "    }\n",
       "</style>\n",
       "<table border=\"1\" class=\"dataframe\">\n",
       "  <thead>\n",
       "    <tr style=\"text-align: right;\">\n",
       "      <th></th>\n",
       "      <th>count</th>\n",
       "      <th>mean</th>\n",
       "      <th>std</th>\n",
       "      <th>min</th>\n",
       "      <th>25%</th>\n",
       "      <th>50%</th>\n",
       "      <th>75%</th>\n",
       "      <th>max</th>\n",
       "    </tr>\n",
       "    <tr>\n",
       "      <th>lido</th>\n",
       "      <th></th>\n",
       "      <th></th>\n",
       "      <th></th>\n",
       "      <th></th>\n",
       "      <th></th>\n",
       "      <th></th>\n",
       "      <th></th>\n",
       "      <th></th>\n",
       "    </tr>\n",
       "  </thead>\n",
       "  <tbody>\n",
       "    <tr>\n",
       "      <th>False</th>\n",
       "      <td>3.0</td>\n",
       "      <td>3.846667</td>\n",
       "      <td>0.328684</td>\n",
       "      <td>3.57</td>\n",
       "      <td>3.6650</td>\n",
       "      <td>3.760</td>\n",
       "      <td>3.9850</td>\n",
       "      <td>4.21</td>\n",
       "    </tr>\n",
       "    <tr>\n",
       "      <th>True</th>\n",
       "      <td>4.0</td>\n",
       "      <td>3.885000</td>\n",
       "      <td>0.119583</td>\n",
       "      <td>3.77</td>\n",
       "      <td>3.7925</td>\n",
       "      <td>3.875</td>\n",
       "      <td>3.9675</td>\n",
       "      <td>4.02</td>\n",
       "    </tr>\n",
       "  </tbody>\n",
       "</table>\n",
       "</div>"
      ],
      "text/plain": [
       "       count      mean       std   min     25%    50%     75%   max\n",
       "lido                                                               \n",
       "False    3.0  3.846667  0.328684  3.57  3.6650  3.760  3.9850  4.21\n",
       "True     4.0  3.885000  0.119583  3.77  3.7925  3.875  3.9675  4.02"
      ]
     },
     "execution_count": 20,
     "metadata": {},
     "output_type": "execute_result"
    }
   ],
   "source": [
    "df.groupby(by=df['lido'])['nota_goodreads'].describe()"
   ]
  },
  {
   "cell_type": "markdown",
   "metadata": {},
   "source": [
    "Yay, correlação de Pearson!\n",
    "\n",
    "[**pandas.Dataframe.corr**](https://pandas.pydata.org/pandas-docs/stable/reference/api/pandas.DataFrame.corr.html)"
   ]
  },
  {
   "cell_type": "code",
   "execution_count": 21,
   "metadata": {},
   "outputs": [
    {
     "data": {
      "text/html": [
       "<div>\n",
       "<style scoped>\n",
       "    .dataframe tbody tr th:only-of-type {\n",
       "        vertical-align: middle;\n",
       "    }\n",
       "\n",
       "    .dataframe tbody tr th {\n",
       "        vertical-align: top;\n",
       "    }\n",
       "\n",
       "    .dataframe thead th {\n",
       "        text-align: right;\n",
       "    }\n",
       "</style>\n",
       "<table border=\"1\" class=\"dataframe\">\n",
       "  <thead>\n",
       "    <tr style=\"text-align: right;\">\n",
       "      <th></th>\n",
       "      <th>minha_nota</th>\n",
       "      <th>nota_goodreads</th>\n",
       "    </tr>\n",
       "  </thead>\n",
       "  <tbody>\n",
       "    <tr>\n",
       "      <th>minha_nota</th>\n",
       "      <td>1.000000</td>\n",
       "      <td>0.853486</td>\n",
       "    </tr>\n",
       "    <tr>\n",
       "      <th>nota_goodreads</th>\n",
       "      <td>0.853486</td>\n",
       "      <td>1.000000</td>\n",
       "    </tr>\n",
       "  </tbody>\n",
       "</table>\n",
       "</div>"
      ],
      "text/plain": [
       "                minha_nota  nota_goodreads\n",
       "minha_nota        1.000000        0.853486\n",
       "nota_goodreads    0.853486        1.000000"
      ]
     },
     "execution_count": 21,
     "metadata": {},
     "output_type": "execute_result"
    }
   ],
   "source": [
    "df[['minha_nota', 'nota_goodreads']].corr()"
   ]
  },
  {
   "cell_type": "markdown",
   "metadata": {},
   "source": [
    "### Yay, gráficos!"
   ]
  },
  {
   "cell_type": "code",
   "execution_count": 22,
   "metadata": {},
   "outputs": [],
   "source": [
    "import seaborn as sns"
   ]
  },
  {
   "cell_type": "code",
   "execution_count": 35,
   "metadata": {},
   "outputs": [
    {
     "data": {
      "text/plain": [
       "<AxesSubplot:xlabel='nota_goodreads'>"
      ]
     },
     "execution_count": 35,
     "metadata": {},
     "output_type": "execute_result"
    },
    {
     "data": {
      "image/png": "[encoded data removed]",
      "text/plain": [
       "<Figure size 432x288 with 1 Axes>"
      ]
     },
     "metadata": {
      "needs_background": "light"
     },
     "output_type": "display_data"
    }
   ],
   "source": [
    "sns.boxplot(x=df['nota_goodreads'])"
   ]
  },
  {
   "cell_type": "code",
   "execution_count": null,
   "metadata": {},
   "outputs": [],
   "source": [
    "sns.catplot(x='minha_nota', y='nota_goodreads', hue='lido', data=df)"
   ]
  },
  {
   "cell_type": "markdown",
   "metadata": {},
   "source": [
    "Vamos pegar nossa matriz de correlação..."
   ]
  },
  {
   "cell_type": "code",
   "execution_count": 37,
   "metadata": {},
   "outputs": [
    {
     "data": {
      "text/html": [
       "<div>\n",
       "<style scoped>\n",
       "    .dataframe tbody tr th:only-of-type {\n",
       "        vertical-align: middle;\n",
       "    }\n",
       "\n",
       "    .dataframe tbody tr th {\n",
       "        vertical-align: top;\n",
       "    }\n",
       "\n",
       "    .dataframe thead th {\n",
       "        text-align: right;\n",
       "    }\n",
       "</style>\n",
       "<table border=\"1\" class=\"dataframe\">\n",
       "  <thead>\n",
       "    <tr style=\"text-align: right;\">\n",
       "      <th></th>\n",
       "      <th>minha_nota</th>\n",
       "      <th>nota_goodreads</th>\n",
       "    </tr>\n",
       "  </thead>\n",
       "  <tbody>\n",
       "    <tr>\n",
       "      <th>minha_nota</th>\n",
       "      <td>1.000000</td>\n",
       "      <td>0.853486</td>\n",
       "    </tr>\n",
       "    <tr>\n",
       "      <th>nota_goodreads</th>\n",
       "      <td>0.853486</td>\n",
       "      <td>1.000000</td>\n",
       "    </tr>\n",
       "  </tbody>\n",
       "</table>\n",
       "</div>"
      ],
      "text/plain": [
       "                minha_nota  nota_goodreads\n",
       "minha_nota        1.000000        0.853486\n",
       "nota_goodreads    0.853486        1.000000"
      ]
     },
     "execution_count": 37,
     "metadata": {},
     "output_type": "execute_result"
    }
   ],
   "source": [
    "df[['minha_nota', 'nota_goodreads']].corr()"
   ]
  },
  {
   "cell_type": "markdown",
   "metadata": {},
   "source": [
    "E passar para um gráfico!"
   ]
  },
  {
   "cell_type": "code",
   "execution_count": 38,
   "metadata": {},
   "outputs": [
    {
     "data": {
      "text/plain": [
       "<AxesSubplot:>"
      ]
     },
     "execution_count": 38,
     "metadata": {},
     "output_type": "execute_result"
    },
    {
     "data": {
      "image/png": "[encoded data removed]",
      "text/plain": [
       "<Figure size 432x288 with 2 Axes>"
      ]
     },
     "metadata": {
      "needs_background": "light"
     },
     "output_type": "display_data"
    }
   ],
   "source": [
    "sns.heatmap(df[['minha_nota', 'nota_goodreads']].corr(), annot=True)"
   ]
  },
  {
   "cell_type": "markdown",
   "metadata": {},
   "source": [
    "O pairplot também pode ser muito útil em visualizar pares de variáveis."
   ]
  },
  {
   "cell_type": "code",
   "execution_count": 39,
   "metadata": {},
   "outputs": [
    {
     "data": {
      "image/png": "[encoded data removed]",
      "text/plain": [
       "<Figure size 288x288 with 6 Axes>"
      ]
     },
     "metadata": {
      "needs_background": "light"
     },
     "output_type": "display_data"
    }
   ],
   "source": [
    "_ = sns.pairplot(df[['minha_nota', 'nota_goodreads']], height=2, diag_kind=\"kde\")"
   ]
  },
  {
   "cell_type": "code",
   "execution_count": null,
   "metadata": {},
   "outputs": [],
   "source": []
  }
 ],
 "metadata": {
  "kernelspec": {
   "display_name": "Python 3",
   "language": "python",
   "name": "python3"
  },
  "language_info": {
   "codemirror_mode": {
    "name": "ipython",
    "version": 3
   },
   "file_extension": ".py",
   "mimetype": "text/x-python",
   "name": "python",
   "nbconvert_exporter": "python",
   "pygments_lexer": "ipython3",
   "version": "3.8.5"
  }
 },
 "nbformat": 4,
 "nbformat_minor": 4
}
