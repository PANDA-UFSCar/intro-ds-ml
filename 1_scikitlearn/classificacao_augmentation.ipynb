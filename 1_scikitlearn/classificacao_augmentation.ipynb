{
  "nbformat": 4,
  "nbformat_minor": 0,
  "metadata": {
    "colab": {
      "name": "classificacao_augmentation.ipynb",
      "provenance": [],
      "collapsed_sections": [
        "KYq9lucgD1gp",
        "fQ-CbkbPkP3B",
        "ke6v2rMU90Tz",
        "iG7rmpfs9727",
        "TF07ro1l-F--",
        "hvVtMsux9p47",
        "YAuEwoYf-RPi",
        "4Pc364saB6iA"
      ]
    },
    "kernelspec": {
      "name": "python3",
      "display_name": "Python 3"
    }
  },
  "cells": [
    {
      "cell_type": "markdown",
      "metadata": {
        "id": "vbi36fiKcp08"
      },
      "source": [
        "# Classificação de dígitos (MNIST)\n",
        "\n",
        "Por João Hirasawa\n",
        "\n",
        "O notebook já contém todos os outputs do processo realizado. Mas, caso queira rodá-lo mesmo assim, há uma pequena modificação a ser feita no último capítulo: o caminho das imagens deve ser adaptado para o seu drive."
      ]
    },
    {
      "cell_type": "markdown",
      "metadata": {
        "id": "Nr0g8WWrDyod"
      },
      "source": [
        "# 1. Bibliotecas"
      ]
    },
    {
      "cell_type": "code",
      "metadata": {
        "id": "614AZvWWgQju"
      },
      "source": [
        "import matplotlib.pyplot as plt\n",
        "import numpy as np\n",
        "from scipy.stats import expon\n",
        "from joblib import dump, load\n",
        "\n",
        "# Carregamento dos dados\n",
        "from sklearn.datasets import fetch_openml\n",
        "from PIL import Image\n",
        "\n",
        "# Pré-processamento dos dados\n",
        "from sklearn.preprocessing import StandardScaler\n",
        "from scipy.ndimage.interpolation import shift\n",
        "\n",
        "# Modelos e seleção de hiperparâmetros\n",
        "from sklearn.linear_model import LogisticRegression\n",
        "from sklearn.tree import DecisionTreeClassifier\n",
        "from sklearn.ensemble import RandomForestClassifier\n",
        "from sklearn.model_selection import GridSearchCV, RandomizedSearchCV, cross_val_score\n",
        "\n",
        "# Avaliação\n",
        "from sklearn.metrics import precision_score, recall_score, f1_score, confusion_matrix, plot_confusion_matrix"
      ],
      "execution_count": null,
      "outputs": []
    },
    {
      "cell_type": "markdown",
      "metadata": {
        "id": "KYq9lucgD1gp"
      },
      "source": [
        "# 2. Carregamento dos dados"
      ]
    },
    {
      "cell_type": "code",
      "metadata": {
        "id": "u_mPz868glTw"
      },
      "source": [
        "X, y = fetch_openml('mnist_784', version=1, return_X_y=True)"
      ],
      "execution_count": null,
      "outputs": []
    },
    {
      "cell_type": "code",
      "metadata": {
        "id": "ItC0kErYg8Y7"
      },
      "source": [
        "def plot_digit(X, y, n):\n",
        "  plt.imshow(np.reshape(X[n], (28,28)), cmap='binary')\n",
        "  plt.title(f'Linha: {n}. Número: {y[n]}.') # fontdict={'color': '#ffffff'}\n",
        "  plt.axis('off')"
      ],
      "execution_count": null,
      "outputs": []
    },
    {
      "cell_type": "code",
      "metadata": {
        "colab": {
          "base_uri": "https://localhost:8080/",
          "height": 264
        },
        "id": "-b5CdQWNh4-G",
        "outputId": "b264fa6a-1ff4-4eba-8562-2c0effaade6c"
      },
      "source": [
        "plot_digit(X, y, 123)"
      ],
      "execution_count": null,
      "outputs": [
        {
          "output_type": "display_data",
          "data": {
            "image/png": "[encoded data removed]",
            "text/plain": [
              "<Figure size 432x288 with 1 Axes>"
            ]
          },
          "metadata": {
            "tags": [],
            "needs_background": "light"
          }
        }
      ]
    },
    {
      "cell_type": "code",
      "metadata": {
        "id": "SaZRGucrhVsS"
      },
      "source": [
        "y = y.astype(np.uint8)"
      ],
      "execution_count": null,
      "outputs": []
    },
    {
      "cell_type": "code",
      "metadata": {
        "id": "taaGmd68jGL1"
      },
      "source": [
        "X_train, X_test, y_train, y_test = X[:60000], X[60000:], y[:60000], y[60000:]"
      ],
      "execution_count": null,
      "outputs": []
    },
    {
      "cell_type": "markdown",
      "metadata": {
        "id": "fQ-CbkbPkP3B"
      },
      "source": [
        "# 3. Regressão Logística"
      ]
    },
    {
      "cell_type": "markdown",
      "metadata": {
        "id": "ke6v2rMU90Tz"
      },
      "source": [
        "## 3.1 Treinamento"
      ]
    },
    {
      "cell_type": "markdown",
      "metadata": {
        "id": "2EAV2-LzJ61S"
      },
      "source": [
        "Criação do modelo, ajustado com alguns hiperparâmetros."
      ]
    },
    {
      "cell_type": "code",
      "metadata": {
        "id": "lKlmG4nEjYMX",
        "colab": {
          "base_uri": "https://localhost:8080/"
        },
        "outputId": "8e545343-45b3-4081-db3c-1543a16397d4"
      },
      "source": [
        "logit_clf = LogisticRegression(C=0.1, tol = 0.01, solver='sag', multi_class='multinomial', random_state=0)\n",
        "logit_clf.fit(X_train, y_train)"
      ],
      "execution_count": null,
      "outputs": [
        {
          "output_type": "execute_result",
          "data": {
            "text/plain": [
              "LogisticRegression(C=0.1, class_weight=None, dual=False, fit_intercept=True,\n",
              "                   intercept_scaling=1, l1_ratio=None, max_iter=100,\n",
              "                   multi_class='multinomial', n_jobs=None, penalty='l2',\n",
              "                   random_state=0, solver='sag', tol=0.01, verbose=0,\n",
              "                   warm_start=False)"
            ]
          },
          "metadata": {
            "tags": []
          },
          "execution_count": 63
        }
      ]
    },
    {
      "cell_type": "code",
      "metadata": {
        "colab": {
          "base_uri": "https://localhost:8080/"
        },
        "id": "pAE7oMS5lcfR",
        "outputId": "13b81ae7-0f5d-46d4-c1c9-8efac5dec556"
      },
      "source": [
        "print('Acurácia:', logit_clf.score(X_test, y_test))"
      ],
      "execution_count": null,
      "outputs": [
        {
          "output_type": "stream",
          "text": [
            "Acurácia: 0.9257\n"
          ],
          "name": "stdout"
        }
      ]
    },
    {
      "cell_type": "markdown",
      "metadata": {
        "id": "aqi0nhN5KGfO"
      },
      "source": [
        "A regressão logística nos fornece as probabilidades para cada classe. Podemos acessá-las por meio do método decision_function()."
      ]
    },
    {
      "cell_type": "code",
      "metadata": {
        "colab": {
          "base_uri": "https://localhost:8080/"
        },
        "id": "ZMhVeVrW-eGB",
        "outputId": "7be6e06a-8f72-41ad-b829-b348eb4298f6"
      },
      "source": [
        "logit_clf.decision_function(X_test)[0]"
      ],
      "execution_count": null,
      "outputs": [
        {
          "output_type": "execute_result",
          "data": {
            "text/plain": [
              "array([ -0.62287614, -17.80283262,   0.14856905,   8.43198631,\n",
              "        -2.91036529,   1.85023012, -12.91659493,  14.24018792,\n",
              "         3.37654876,   6.2051468 ])"
            ]
          },
          "metadata": {
            "tags": []
          },
          "execution_count": 65
        }
      ]
    },
    {
      "cell_type": "markdown",
      "metadata": {
        "id": "1mNWEPcdKPkt"
      },
      "source": [
        "Vamos pegar um exemplo e analisar o que o modelo nos diz."
      ]
    },
    {
      "cell_type": "code",
      "metadata": {
        "colab": {
          "base_uri": "https://localhost:8080/"
        },
        "id": "CHj8l_rQ1lZ-",
        "outputId": "04042e1b-9227-4d5b-aba5-eae04eb6e836"
      },
      "source": [
        "logit_clf.predict(X_test[0].reshape(1,-1))"
      ],
      "execution_count": null,
      "outputs": [
        {
          "output_type": "execute_result",
          "data": {
            "text/plain": [
              "array([7], dtype=uint8)"
            ]
          },
          "metadata": {
            "tags": []
          },
          "execution_count": 103
        }
      ]
    },
    {
      "cell_type": "code",
      "metadata": {
        "colab": {
          "base_uri": "https://localhost:8080/",
          "height": 264
        },
        "id": "n-3Zf80L-q1X",
        "outputId": "c635b6ad-a7c1-40a7-ef28-773af3891047"
      },
      "source": [
        "plot_digit(X_test, y_test, 0)"
      ],
      "execution_count": null,
      "outputs": [
        {
          "output_type": "display_data",
          "data": {
            "image/png": "[encoded data removed]",
            "text/plain": [
              "<Figure size 432x288 with 1 Axes>"
            ]
          },
          "metadata": {
            "tags": [],
            "needs_background": "light"
          }
        }
      ]
    },
    {
      "cell_type": "markdown",
      "metadata": {
        "id": "iG7rmpfs9727"
      },
      "source": [
        "## 3.2 Fine-tuning"
      ]
    },
    {
      "cell_type": "markdown",
      "metadata": {
        "id": "kxWCVGl-9-Cu"
      },
      "source": [
        "Usando grid search. CUIDADO: demora muito!"
      ]
    },
    {
      "cell_type": "code",
      "metadata": {
        "id": "py3jILZynYKS"
      },
      "source": [
        "logit_params = {\n",
        "    'C': [0.01, 0.1, 1, 10, 100],\n",
        "    'tol': [0.1, 0.01, 0.001, 0.0001],\n",
        "    'penalty': ['l1', 'l2'],\n",
        "    'solver': ['sag'],\n",
        "    'multi_class': ['multinomial'],\n",
        "}\n",
        "\n",
        "logit_gs = GridSearchCV(LogisticRegression(), logit_params, n_jobs=-1, verbose=1)"
      ],
      "execution_count": null,
      "outputs": []
    },
    {
      "cell_type": "code",
      "metadata": {
        "id": "wK5LcoiXpAcd"
      },
      "source": [
        "# Descomente para usar\n",
        "# logit_gs.fit(X_train_transformed, y_train)"
      ],
      "execution_count": null,
      "outputs": []
    },
    {
      "cell_type": "markdown",
      "metadata": {
        "id": "iPwd8MED-AhU"
      },
      "source": [
        "Usando randomized search. O uso de uma busca aleatória dentro de distribuições de variáveis aleatórias acelera imensamente o processo. Pode ser customizado o número de combinações feitas, folds, iterações, etc."
      ]
    },
    {
      "cell_type": "code",
      "metadata": {
        "id": "C0vJtBaPpN54"
      },
      "source": [
        "logit_distribs = {\n",
        "    'C': expon(scale=100),\n",
        "    'tol': expon(scale=0.1),\n",
        "    'penalty': ['l1', 'l2'],\n",
        "    'solver': ['sag'],\n",
        "    'multi_class': ['multinomial'],\n",
        "}\n",
        "\n",
        "logit_rs = RandomizedSearchCV(LogisticRegression(), logit_distribs, n_jobs=-1, verbose=10)"
      ],
      "execution_count": null,
      "outputs": []
    },
    {
      "cell_type": "code",
      "metadata": {
        "colab": {
          "base_uri": "https://localhost:8080/"
        },
        "id": "bebZkRzhrHa6",
        "outputId": "7bedd69e-74fa-4e93-feba-bfd9574f4c46"
      },
      "source": [
        "logit_rs.fit(X_train, y_train)"
      ],
      "execution_count": null,
      "outputs": [
        {
          "output_type": "stream",
          "text": [
            "Fitting 5 folds for each of 10 candidates, totalling 50 fits\n"
          ],
          "name": "stdout"
        },
        {
          "output_type": "stream",
          "text": [
            "[Parallel(n_jobs=-1)]: Using backend LokyBackend with 2 concurrent workers.\n",
            "[Parallel(n_jobs=-1)]: Done   1 tasks      | elapsed:    1.9s\n",
            "[Parallel(n_jobs=-1)]: Done   4 tasks      | elapsed:    2.1s\n",
            "[Parallel(n_jobs=-1)]: Done   9 tasks      | elapsed:   30.6s\n",
            "[Parallel(n_jobs=-1)]: Done  14 tasks      | elapsed:  1.1min\n",
            "[Parallel(n_jobs=-1)]: Done  21 tasks      | elapsed:  1.3min\n",
            "[Parallel(n_jobs=-1)]: Done  28 tasks      | elapsed:  2.1min\n",
            "[Parallel(n_jobs=-1)]: Done  37 tasks      | elapsed:  2.2min\n",
            "[Parallel(n_jobs=-1)]: Done  46 tasks      | elapsed:  2.5min\n",
            "[Parallel(n_jobs=-1)]: Done  50 out of  50 | elapsed:  3.1min finished\n"
          ],
          "name": "stderr"
        },
        {
          "output_type": "execute_result",
          "data": {
            "text/plain": [
              "RandomizedSearchCV(cv=None, error_score=nan,\n",
              "                   estimator=LogisticRegression(C=1.0, class_weight=None,\n",
              "                                                dual=False, fit_intercept=True,\n",
              "                                                intercept_scaling=1,\n",
              "                                                l1_ratio=None, max_iter=100,\n",
              "                                                multi_class='auto', n_jobs=None,\n",
              "                                                penalty='l2', random_state=None,\n",
              "                                                solver='lbfgs', tol=0.0001,\n",
              "                                                verbose=0, warm_start=False),\n",
              "                   iid='deprecated', n_iter=10, n_jobs=-1,\n",
              "                   param_distributions={'C': <scipy.stats._distn_infrastructure.rv_frozen object at 0x7fda19d72e10>,\n",
              "                                        'multi_class': ['multinomial'],\n",
              "                                        'penalty': ['l1', 'l2'],\n",
              "                                        'solver': ['sag'],\n",
              "                                        'tol': <scipy.stats._distn_infrastructure.rv_frozen object at 0x7fda19cfab38>},\n",
              "                   pre_dispatch='2*n_jobs', random_state=None, refit=True,\n",
              "                   return_train_score=False, scoring=None, verbose=10)"
            ]
          },
          "metadata": {
            "tags": []
          },
          "execution_count": 68
        }
      ]
    },
    {
      "cell_type": "markdown",
      "metadata": {
        "id": "sUahGhLDKkjN"
      },
      "source": [
        "Após a busca, o RandomizedSearchCV (ou GridSearchCV) treina o modelo com os dados e utilizando os hiperparâmetros mais \"adequados\" que encontrou."
      ]
    },
    {
      "cell_type": "code",
      "metadata": {
        "colab": {
          "base_uri": "https://localhost:8080/"
        },
        "id": "TZ6p16Ck7Iy9",
        "outputId": "f8cfdd1c-366a-4244-a131-e23d7bcab2ad"
      },
      "source": [
        "logit_rs.best_params_"
      ],
      "execution_count": null,
      "outputs": [
        {
          "output_type": "execute_result",
          "data": {
            "text/plain": [
              "{'C': 42.444863004857034,\n",
              " 'multi_class': 'multinomial',\n",
              " 'penalty': 'l2',\n",
              " 'solver': 'sag',\n",
              " 'tol': 0.05921476364715383}"
            ]
          },
          "metadata": {
            "tags": []
          },
          "execution_count": 69
        }
      ]
    },
    {
      "cell_type": "markdown",
      "metadata": {
        "id": "wkaZddbVKtM6"
      },
      "source": [
        "Note que houve uma pequena piora no desempenho! Isso pode acontecer por conta de uma tunagem não-ótima, limitações do modelo, etc.."
      ]
    },
    {
      "cell_type": "code",
      "metadata": {
        "colab": {
          "base_uri": "https://localhost:8080/"
        },
        "id": "qPIy9d4z8o4x",
        "outputId": "33272b80-42be-4371-fa14-0a48670e1677"
      },
      "source": [
        "logit_rs.score(X_test, y_test)"
      ],
      "execution_count": null,
      "outputs": [
        {
          "output_type": "execute_result",
          "data": {
            "text/plain": [
              "0.9238"
            ]
          },
          "metadata": {
            "tags": []
          },
          "execution_count": 70
        }
      ]
    },
    {
      "cell_type": "markdown",
      "metadata": {
        "id": "TF07ro1l-F--"
      },
      "source": [
        "## 3.3 Avaliação"
      ]
    },
    {
      "cell_type": "markdown",
      "metadata": {
        "id": "qFyTjc9k8rmz"
      },
      "source": [
        "Métricas do modelo sem otimização dos hiperparâmetros."
      ]
    },
    {
      "cell_type": "markdown",
      "metadata": {
        "id": "z3c5AcHCLBQH"
      },
      "source": [
        "A matriz de confusão nos informa as previsões feitas para cada exemplo, comparando a classe verdadeira do exemplo com a classe predita."
      ]
    },
    {
      "cell_type": "code",
      "metadata": {
        "colab": {
          "base_uri": "https://localhost:8080/"
        },
        "id": "62OzuaVc8wJb",
        "outputId": "e47c5a55-e05a-42e1-a546-ee97af394956"
      },
      "source": [
        "y_pred_logit = logit_clf.predict(X_test)\n",
        "confusion_matrix(y_test, y_pred_logit)"
      ],
      "execution_count": null,
      "outputs": [
        {
          "output_type": "execute_result",
          "data": {
            "text/plain": [
              "array([[ 959,    0,    0,    3,    1,    5,    6,    3,    2,    1],\n",
              "       [   0, 1117,    5,    2,    0,    1,    3,    1,    6,    0],\n",
              "       [   5,   10,  925,   17,    9,    3,   11,   11,   39,    2],\n",
              "       [   4,    0,   17,  927,    1,   22,    2,    9,   21,    7],\n",
              "       [   1,    2,    5,    3,  917,    0,    9,    6,   10,   29],\n",
              "       [  12,    3,    2,   37,   10,  767,   14,    7,   35,    5],\n",
              "       [   9,    3,    7,    2,    6,   17,  911,    2,    1,    0],\n",
              "       [   2,    5,   23,    6,    5,    1,    0,  948,    4,   34],\n",
              "       [   8,   13,    5,   24,    6,   24,    9,   10,  863,   12],\n",
              "       [   9,    7,    1,    9,   24,    6,    0,   21,    9,  923]])"
            ]
          },
          "metadata": {
            "tags": []
          },
          "execution_count": 71
        }
      ]
    },
    {
      "cell_type": "code",
      "metadata": {
        "colab": {
          "base_uri": "https://localhost:8080/"
        },
        "id": "diQ96xYx80k9",
        "outputId": "5f5b106e-6cc5-44c0-c2ee-34dcec3e9ae7"
      },
      "source": [
        "plot_confusion_matrix(logit_clf, X_test, y_test, values_format='d', cmap='binary')"
      ],
      "execution_count": null,
      "outputs": [
        {
          "output_type": "execute_result",
          "data": {
            "text/plain": [
              "<sklearn.metrics._plot.confusion_matrix.ConfusionMatrixDisplay at 0x7fda19c8fb00>"
            ]
          },
          "metadata": {
            "tags": []
          },
          "execution_count": 73
        },
        {
          "output_type": "display_data",
          "data": {
            "image/png": "[encoded data removed]",
            "text/plain": [
              "<Figure size 432x288 with 2 Axes>"
            ]
          },
          "metadata": {
            "tags": [],
            "needs_background": "light"
          }
        }
      ]
    },
    {
      "cell_type": "markdown",
      "metadata": {
        "id": "UeZKpN2CLOpq"
      },
      "source": [
        "Precisão e recall são medidas que podem ter mais informação do que a acurácia (procure a teoria). F1 é a média harmônica da precissão e do recall."
      ]
    },
    {
      "cell_type": "code",
      "metadata": {
        "colab": {
          "base_uri": "https://localhost:8080/"
        },
        "id": "pbeKaCPO8758",
        "outputId": "ff35e798-dd64-4e15-dfb6-babdba684efb"
      },
      "source": [
        "print(\"Precisão (macro):\", precision_score(y_test, y_pred_logit, average='macro'))\n",
        "print(\"Recall (macro):\", recall_score(y_test, y_pred_logit, average='macro'))\n",
        "print(\"F1 (macro):\", f1_score(y_test, y_pred_logit, average='macro'))\n",
        "print(\"\\nPrecisão (micro):\", precision_score(y_test, y_pred_logit, average='micro'))\n",
        "print(\"Recall (micro):\", recall_score(y_test, y_pred_logit, average='micro'))\n",
        "print(\"F1 (micro):\", f1_score(y_test, y_pred_logit, average='micro'))"
      ],
      "execution_count": null,
      "outputs": [
        {
          "output_type": "stream",
          "text": [
            "Precisão (macro): 0.9249161240503874\n",
            "Recall (macro): 0.9244448536843277\n",
            "F1 (macro): 0.9245284536695328\n",
            "\n",
            "Precisão (micro): 0.9257\n",
            "Recall (micro): 0.9257\n",
            "F1 (micro): 0.9257\n"
          ],
          "name": "stdout"
        }
      ]
    },
    {
      "cell_type": "markdown",
      "metadata": {
        "id": "vOCr0w_PLpb0"
      },
      "source": [
        "Ainda há outras medidas, como curva ROC e a área abaixo da curva, dentre outras.."
      ]
    },
    {
      "cell_type": "markdown",
      "metadata": {
        "id": "zAYcM6_89Z5k"
      },
      "source": [
        "Métricas do modelo COM o RandomizedSearch."
      ]
    },
    {
      "cell_type": "code",
      "metadata": {
        "id": "aGEQhVHh7Pi3"
      },
      "source": [
        "y_pred_logit_rs = logit_rs.predict(X_test)"
      ],
      "execution_count": null,
      "outputs": []
    },
    {
      "cell_type": "code",
      "metadata": {
        "colab": {
          "base_uri": "https://localhost:8080/"
        },
        "id": "bdoyCi7Q7e97",
        "outputId": "5f0f0b4e-0108-4d08-fa13-d4d7b300f990"
      },
      "source": [
        "confusion_matrix(y_test, y_pred_logit_rs)"
      ],
      "execution_count": null,
      "outputs": [
        {
          "output_type": "execute_result",
          "data": {
            "text/plain": [
              "array([[ 964,    0,    1,    3,    0,    3,    4,    3,    1,    1],\n",
              "       [   0, 1115,    4,    2,    0,    1,    3,    2,    8,    0],\n",
              "       [   4,   10,  932,   12,    7,    3,   11,    9,   40,    4],\n",
              "       [   3,    1,   18,  922,    1,   18,    3,   10,   23,   11],\n",
              "       [   1,    1,    8,    3,  910,    0,    6,    4,   11,   38],\n",
              "       [  10,    3,    5,   42,   11,  756,   11,    8,   38,    8],\n",
              "       [   9,    3,   11,    1,    9,   17,  904,    2,    2,    0],\n",
              "       [   1,    6,   24,    4,    5,    1,    0,  948,    3,   36],\n",
              "       [   7,   11,    7,   20,    9,   32,    9,    9,  857,   13],\n",
              "       [   9,    8,    1,    9,   21,    5,    0,   19,    7,  930]])"
            ]
          },
          "metadata": {
            "tags": []
          },
          "execution_count": 75
        }
      ]
    },
    {
      "cell_type": "code",
      "metadata": {
        "colab": {
          "base_uri": "https://localhost:8080/"
        },
        "id": "LtAdYz7h7hxP",
        "outputId": "15c40972-d847-4c4a-8ad2-f36e310a3a59"
      },
      "source": [
        "plot_confusion_matrix(logit_rs, X_test, y_test, values_format='d', cmap='binary')"
      ],
      "execution_count": null,
      "outputs": [
        {
          "output_type": "execute_result",
          "data": {
            "text/plain": [
              "<sklearn.metrics._plot.confusion_matrix.ConfusionMatrixDisplay at 0x7fda19b7f748>"
            ]
          },
          "metadata": {
            "tags": []
          },
          "execution_count": 76
        },
        {
          "output_type": "display_data",
          "data": {
            "image/png": "[encoded data removed]",
            "text/plain": [
              "<Figure size 432x288 with 2 Axes>"
            ]
          },
          "metadata": {
            "tags": [],
            "needs_background": "light"
          }
        }
      ]
    },
    {
      "cell_type": "code",
      "metadata": {
        "colab": {
          "base_uri": "https://localhost:8080/"
        },
        "id": "woerr3SUwp0B",
        "outputId": "1c69b6b3-f2eb-4a2c-fe3d-0bb0a1fd272b"
      },
      "source": [
        "print(\"Precisão (macro):\", precision_score(y_test, y_pred_logit_rs, average='macro'))\n",
        "print(\"Recall (macro):\", recall_score(y_test, y_pred_logit_rs, average='macro'))\n",
        "print(\"F1 (macro):\", f1_score(y_test, y_pred_logit_rs, average='macro'))\n",
        "print(\"\\nPrecisão (micro):\", precision_score(y_test, y_pred_logit_rs, average='micro'))\n",
        "print(\"Recall (micro):\", recall_score(y_test, y_pred_logit_rs, average='micro'))\n",
        "print(\"F1 (micro):\", f1_score(y_test, y_pred_logit_rs, average='micro'))"
      ],
      "execution_count": null,
      "outputs": [
        {
          "output_type": "stream",
          "text": [
            "Precisão (macro): 0.9230849132849448\n",
            "Recall (macro): 0.9223631273990417\n",
            "F1 (macro): 0.9225564266367892\n",
            "\n",
            "Precisão (micro): 0.9238\n",
            "Recall (micro): 0.9238\n",
            "F1 (micro): 0.9238\n"
          ],
          "name": "stdout"
        }
      ]
    },
    {
      "cell_type": "markdown",
      "metadata": {
        "id": "hvVtMsux9p47"
      },
      "source": [
        "# 4. Árvore de Decisão"
      ]
    },
    {
      "cell_type": "markdown",
      "metadata": {
        "id": "YAuEwoYf-RPi"
      },
      "source": [
        "## 4.1 Treinamento"
      ]
    },
    {
      "cell_type": "code",
      "metadata": {
        "colab": {
          "base_uri": "https://localhost:8080/"
        },
        "id": "29voFhnB9rBo",
        "outputId": "b93e5045-ea92-4e7f-bf98-4b5160a8990c"
      },
      "source": [
        "tree_clf = DecisionTreeClassifier(random_state=0)\n",
        "tree_clf.fit(X_train, y_train)"
      ],
      "execution_count": null,
      "outputs": [
        {
          "output_type": "execute_result",
          "data": {
            "text/plain": [
              "DecisionTreeClassifier(ccp_alpha=0.0, class_weight=None, criterion='gini',\n",
              "                       max_depth=None, max_features=None, max_leaf_nodes=None,\n",
              "                       min_impurity_decrease=0.0, min_impurity_split=None,\n",
              "                       min_samples_leaf=1, min_samples_split=2,\n",
              "                       min_weight_fraction_leaf=0.0, presort='deprecated',\n",
              "                       random_state=0, splitter='best')"
            ]
          },
          "metadata": {
            "tags": []
          },
          "execution_count": 78
        }
      ]
    },
    {
      "cell_type": "code",
      "metadata": {
        "colab": {
          "base_uri": "https://localhost:8080/"
        },
        "id": "xF6tHaM-_Zt_",
        "outputId": "e9b5d0f4-11eb-46d9-b102-ef75310022e3"
      },
      "source": [
        "print('Acurácia: ', tree_clf.score(X_test, y_test))"
      ],
      "execution_count": null,
      "outputs": [
        {
          "output_type": "stream",
          "text": [
            "Acurácia:  0.8781\n"
          ],
          "name": "stdout"
        }
      ]
    },
    {
      "cell_type": "markdown",
      "metadata": {
        "id": "lEFghwkVNvkD"
      },
      "source": [
        "Cross-validation é algo legal a ser usado para comparar modelos. Não irei utilizar neste notebook, apenas mostrando um jeito de se fazer."
      ]
    },
    {
      "cell_type": "code",
      "metadata": {
        "colab": {
          "base_uri": "https://localhost:8080/"
        },
        "id": "aza0HEI1_4Br",
        "outputId": "9e6a8138-03f0-4171-ce53-a326c5f5ab33"
      },
      "source": [
        "scores = cross_val_score(tree_clf, X_train, y_train, scoring='accuracy')\n",
        "print(\"Scores:\", scores)\n",
        "print(\"Mean:\", scores.mean())\n",
        "print(\"Standard deviation:\", scores.std())"
      ],
      "execution_count": null,
      "outputs": [
        {
          "output_type": "stream",
          "text": [
            "Scores: [0.87225    0.85825    0.85925    0.86416667 0.87775   ]\n",
            "Mean: 0.8663333333333334\n",
            "Standard deviation: 0.007557189365836447\n"
          ],
          "name": "stdout"
        }
      ]
    },
    {
      "cell_type": "markdown",
      "metadata": {
        "id": "4Pc364saB6iA"
      },
      "source": [
        "## 4.2 Avaliação"
      ]
    },
    {
      "cell_type": "code",
      "metadata": {
        "colab": {
          "base_uri": "https://localhost:8080/"
        },
        "id": "lCWTeNVoBZiQ",
        "outputId": "e3d83b24-dccb-40d0-ab23-0908401d0024"
      },
      "source": [
        "y_pred_tree = tree_clf.predict(X_test)\n",
        "confusion_matrix(y_test, y_pred_tree)"
      ],
      "execution_count": null,
      "outputs": [
        {
          "output_type": "execute_result",
          "data": {
            "text/plain": [
              "array([[ 915,    0,    4,    8,    5,   11,   14,    4,    8,   11],\n",
              "       [   0, 1090,    8,   11,    1,    6,    8,    1,    9,    1],\n",
              "       [  15,    7,  879,   33,   14,    9,   11,   24,   30,   10],\n",
              "       [  11,    5,   29,  865,    7,   37,    4,    9,   23,   20],\n",
              "       [   5,    2,    7,    5,  866,    8,   14,   11,   21,   43],\n",
              "       [  13,    7,    3,   50,    6,  751,   23,    6,   21,   12],\n",
              "       [  16,    3,   15,   10,   22,   20,  842,    2,   24,    4],\n",
              "       [   2,   12,   26,   13,    6,    6,    4,  929,    9,   21],\n",
              "       [  10,    7,   29,   41,   17,   27,   16,   10,  788,   29],\n",
              "       [  14,    2,   11,   20,   41,    8,    9,   20,   28,  856]])"
            ]
          },
          "metadata": {
            "tags": []
          },
          "execution_count": 84
        }
      ]
    },
    {
      "cell_type": "code",
      "metadata": {
        "colab": {
          "base_uri": "https://localhost:8080/"
        },
        "id": "IcT2T4xOBt4L",
        "outputId": "5ae845fd-3f7d-4871-fb10-b27b63d450b1"
      },
      "source": [
        "plot_confusion_matrix(tree_clf, X_test, y_test, values_format='d', cmap='binary')"
      ],
      "execution_count": null,
      "outputs": [
        {
          "output_type": "execute_result",
          "data": {
            "text/plain": [
              "<sklearn.metrics._plot.confusion_matrix.ConfusionMatrixDisplay at 0x7fda19ba9e48>"
            ]
          },
          "metadata": {
            "tags": []
          },
          "execution_count": 85
        },
        {
          "output_type": "display_data",
          "data": {
            "image/png": "[encoded data removed]",
            "text/plain": [
              "<Figure size 432x288 with 2 Axes>"
            ]
          },
          "metadata": {
            "tags": [],
            "needs_background": "light"
          }
        }
      ]
    },
    {
      "cell_type": "code",
      "metadata": {
        "colab": {
          "base_uri": "https://localhost:8080/"
        },
        "id": "EJNZNmdkBwu1",
        "outputId": "a261c0e2-20ad-42a8-d7df-9a473cdefa93"
      },
      "source": [
        "print(\"Precisão (macro):\", precision_score(y_test, y_pred_tree, average='macro'))\n",
        "print(\"Recall (macro):\", recall_score(y_test, y_pred_tree, average='macro'))\n",
        "print(\"F1 (macro):\", f1_score(y_test, y_pred_tree, average='macro'))\n",
        "print(\"\\nPrecisão (micro):\", precision_score(y_test, y_pred_tree, average='micro'))\n",
        "print(\"Recall (micro):\", recall_score(y_test, y_pred_tree, average='micro'))\n",
        "print(\"F1 (micro):\", f1_score(y_test, y_pred_tree, average='micro'))"
      ],
      "execution_count": null,
      "outputs": [
        {
          "output_type": "stream",
          "text": [
            "Precisão (macro): 0.8768104980709447\n",
            "Recall (macro): 0.8766018228319336\n",
            "F1 (macro): 0.8766317499104777\n",
            "\n",
            "Precisão (micro): 0.8781\n",
            "Recall (micro): 0.8781\n",
            "F1 (micro): 0.8781\n"
          ],
          "name": "stdout"
        }
      ]
    },
    {
      "cell_type": "markdown",
      "metadata": {
        "id": "UVUaLBPzCIPB"
      },
      "source": [
        "# 5. Random Forest"
      ]
    },
    {
      "cell_type": "markdown",
      "metadata": {
        "id": "m_whu0D0CJ72"
      },
      "source": [
        "## 5.1 Treinamento"
      ]
    },
    {
      "cell_type": "code",
      "metadata": {
        "colab": {
          "base_uri": "https://localhost:8080/"
        },
        "id": "JOO20R1rCJHu",
        "outputId": "eed18b10-d9e9-42c6-d177-e700a3330903"
      },
      "source": [
        "rf_clf = RandomForestClassifier(random_state=0)\n",
        "rf_clf.fit(X_train, y_train)"
      ],
      "execution_count": null,
      "outputs": [
        {
          "output_type": "execute_result",
          "data": {
            "text/plain": [
              "RandomForestClassifier(bootstrap=True, ccp_alpha=0.0, class_weight=None,\n",
              "                       criterion='gini', max_depth=None, max_features='auto',\n",
              "                       max_leaf_nodes=None, max_samples=None,\n",
              "                       min_impurity_decrease=0.0, min_impurity_split=None,\n",
              "                       min_samples_leaf=1, min_samples_split=2,\n",
              "                       min_weight_fraction_leaf=0.0, n_estimators=100,\n",
              "                       n_jobs=None, oob_score=False, random_state=0, verbose=0,\n",
              "                       warm_start=False)"
            ]
          },
          "metadata": {
            "tags": []
          },
          "execution_count": 87
        }
      ]
    },
    {
      "cell_type": "code",
      "metadata": {
        "colab": {
          "base_uri": "https://localhost:8080/"
        },
        "id": "c727sznmC7QV",
        "outputId": "bf122877-0f3f-4d1c-e231-cfc69e8eb3db"
      },
      "source": [
        "print('Acurácia: ', rf_clf.score(X_test, y_test))"
      ],
      "execution_count": null,
      "outputs": [
        {
          "output_type": "stream",
          "text": [
            "Acurácia:  0.9705\n"
          ],
          "name": "stdout"
        }
      ]
    },
    {
      "cell_type": "code",
      "metadata": {
        "colab": {
          "base_uri": "https://localhost:8080/"
        },
        "id": "zs7gHJV4Kfcx",
        "outputId": "c2de2e1b-49f3-4da7-dfbf-eede906f0f03"
      },
      "source": [
        "# Salvando o modelo\n",
        "# dump(rf_clf, '/content/drive/MyDrive/rf_clf.joblib')"
      ],
      "execution_count": null,
      "outputs": [
        {
          "output_type": "execute_result",
          "data": {
            "text/plain": [
              "['/content/drive/MyDrive/rf_clf.joblib']"
            ]
          },
          "metadata": {
            "tags": []
          },
          "execution_count": 9
        }
      ]
    },
    {
      "cell_type": "markdown",
      "metadata": {
        "id": "wzTi5oXxC95g"
      },
      "source": [
        "## 5.2 Avaliação"
      ]
    },
    {
      "cell_type": "code",
      "metadata": {
        "colab": {
          "base_uri": "https://localhost:8080/"
        },
        "id": "sJCALf-aDCfV",
        "outputId": "0d90ec23-1a9a-409a-b678-cdae3bc385a3"
      },
      "source": [
        "y_pred_rf = rf_clf.predict(X_test)\n",
        "confusion_matrix(y_test, y_pred_rf)"
      ],
      "execution_count": null,
      "outputs": [
        {
          "output_type": "execute_result",
          "data": {
            "text/plain": [
              "array([[ 969,    0,    0,    0,    0,    2,    5,    1,    3,    0],\n",
              "       [   0, 1124,    2,    3,    0,    2,    2,    1,    1,    0],\n",
              "       [   5,    0,  999,    7,    2,    0,    3,    9,    7,    0],\n",
              "       [   1,    0,   10,  971,    0,   10,    0,    8,    8,    2],\n",
              "       [   1,    0,    1,    0,  958,    0,    6,    0,    2,   14],\n",
              "       [   3,    0,    0,   11,    0,  862,    8,    2,    4,    2],\n",
              "       [   6,    3,    0,    0,    3,    4,  939,    0,    3,    0],\n",
              "       [   1,    3,   20,    1,    0,    0,    0,  989,    3,   11],\n",
              "       [   5,    0,    5,    6,    4,    9,    4,    4,  928,    9],\n",
              "       [   8,    5,    1,    9,    8,    3,    1,    4,    4,  966]])"
            ]
          },
          "metadata": {
            "tags": []
          },
          "execution_count": 89
        }
      ]
    },
    {
      "cell_type": "code",
      "metadata": {
        "colab": {
          "base_uri": "https://localhost:8080/"
        },
        "id": "I_M5WUEgDKBm",
        "outputId": "3b1249c8-dc11-44d2-efd6-050a35c6044e"
      },
      "source": [
        "plot_confusion_matrix(rf_clf, X_test, y_test, values_format='d', cmap='binary')"
      ],
      "execution_count": null,
      "outputs": [
        {
          "output_type": "execute_result",
          "data": {
            "text/plain": [
              "<sklearn.metrics._plot.confusion_matrix.ConfusionMatrixDisplay at 0x7fda18fe7240>"
            ]
          },
          "metadata": {
            "tags": []
          },
          "execution_count": 90
        },
        {
          "output_type": "display_data",
          "data": {
            "image/png": "[encoded data removed]",
            "text/plain": [
              "<Figure size 432x288 with 2 Axes>"
            ]
          },
          "metadata": {
            "tags": [],
            "needs_background": "light"
          }
        }
      ]
    },
    {
      "cell_type": "code",
      "metadata": {
        "colab": {
          "base_uri": "https://localhost:8080/"
        },
        "id": "e_rT4IgZDK9r",
        "outputId": "0b7e2df5-f53c-462b-cf96-8f9df0da48bd"
      },
      "source": [
        "print(\"Precisão (macro):\", precision_score(y_test, y_pred_rf, average='macro'))\n",
        "print(\"Recall (macro):\", recall_score(y_test, y_pred_rf, average='macro'))\n",
        "print(\"F1 (macro):\", f1_score(y_test, y_pred_rf, average='macro'))\n",
        "print(\"\\nPrecisão (micro):\", precision_score(y_test, y_pred_rf, average='micro'))\n",
        "print(\"Recall (micro):\", recall_score(y_test, y_pred_rf, average='micro'))\n",
        "print(\"F1 (micro):\", f1_score(y_test, y_pred_rf, average='micro'))"
      ],
      "execution_count": null,
      "outputs": [
        {
          "output_type": "stream",
          "text": [
            "Precisão (macro): 0.9702292282943962\n",
            "Recall (macro): 0.9702805962559312\n",
            "F1 (macro): 0.9702351062124602\n",
            "\n",
            "Precisão (micro): 0.9705\n",
            "Recall (micro): 0.9705\n",
            "F1 (micro): 0.9705\n"
          ],
          "name": "stdout"
        }
      ]
    },
    {
      "cell_type": "markdown",
      "metadata": {
        "id": "dJQgwaxcFMN-"
      },
      "source": [
        "# 6. Data augmentation"
      ]
    },
    {
      "cell_type": "markdown",
      "metadata": {
        "id": "ayCgqhpqHq8y"
      },
      "source": [
        "Código retirado de https://github.com/ageron/handson-ml2/blob/master/03_classification.ipynb"
      ]
    },
    {
      "cell_type": "markdown",
      "metadata": {
        "id": "_rKLhMkUL3Jx"
      },
      "source": [
        "Criando uma função que pode fazer um \"shift\" nas imagens na direção informada."
      ]
    },
    {
      "cell_type": "code",
      "metadata": {
        "id": "IPxf9dn_FNZS"
      },
      "source": [
        "def shift_image(image, dx, dy):\n",
        "    image = image.reshape((28, 28))\n",
        "    shifted_image = shift(image, [dy, dx], cval=0, mode=\"constant\")\n",
        "    return shifted_image.reshape([-1])"
      ],
      "execution_count": null,
      "outputs": []
    },
    {
      "cell_type": "code",
      "metadata": {
        "colab": {
          "base_uri": "https://localhost:8080/",
          "height": 281
        },
        "id": "t2NH1MRfFV7c",
        "outputId": "fec4f22f-198a-4162-b2b1-095f62f2517f"
      },
      "source": [
        "# Exemplo deslocando 5 pixels para baixo.\n",
        "plt.imshow(shift_image(X_train[0], 0, 5).reshape(28,28), cmap='binary')\n",
        "plt.title(f'Linha: 0. Número: {y_train[0]}.', fontdict={'color': '#ffffff'})\n",
        "plt.axis('off')"
      ],
      "execution_count": null,
      "outputs": [
        {
          "output_type": "execute_result",
          "data": {
            "text/plain": [
              "(-0.5, 27.5, 27.5, -0.5)"
            ]
          },
          "metadata": {
            "tags": []
          },
          "execution_count": 46
        },
        {
          "output_type": "display_data",
          "data": {
            "image/png": "[encoded data removed]",
            "text/plain": [
              "<Figure size 432x288 with 1 Axes>"
            ]
          },
          "metadata": {
            "tags": [],
            "needs_background": "light"
          }
        }
      ]
    },
    {
      "cell_type": "markdown",
      "metadata": {
        "id": "lX9c6LJtMA3-"
      },
      "source": [
        "Realizando o augmentation."
      ]
    },
    {
      "cell_type": "code",
      "metadata": {
        "id": "WRKfdTGZGPb-"
      },
      "source": [
        "X_train_aug = [image for image in X_train]\n",
        "y_train_aug = [label for label in y_train]\n",
        "\n",
        "for dx, dy in ((2, 0), (-2, 0), (0, 2), (0, -2)):\n",
        "    for image, label in zip(X_train, y_train):\n",
        "        X_train_aug.append(shift_image(image, dx, dy))\n",
        "        y_train_aug.append(label)\n",
        "\n",
        "X_train_aug = np.array(X_train_aug)\n",
        "y_train_aug = np.array(y_train_aug)"
      ],
      "execution_count": null,
      "outputs": []
    },
    {
      "cell_type": "markdown",
      "metadata": {
        "id": "PBnWhvUUMGIa"
      },
      "source": [
        "CUIDADO: rodar o código abaixo demora consideravelmente."
      ]
    },
    {
      "cell_type": "code",
      "metadata": {
        "colab": {
          "base_uri": "https://localhost:8080/"
        },
        "id": "C3m507GgGct5",
        "outputId": "75d7c4a9-8ae6-4119-c423-4254338f8e92"
      },
      "source": [
        "# Descomente para rodar\n",
        "# rf_aug_clf = RandomForestClassifier(n_jobs=-1, random_state=0)\n",
        "# rf_aug_clf.fit(X_train_aug, y_train_aug)"
      ],
      "execution_count": null,
      "outputs": [
        {
          "output_type": "execute_result",
          "data": {
            "text/plain": [
              "RandomForestClassifier(bootstrap=True, ccp_alpha=0.0, class_weight=None,\n",
              "                       criterion='gini', max_depth=None, max_features='auto',\n",
              "                       max_leaf_nodes=None, max_samples=None,\n",
              "                       min_impurity_decrease=0.0, min_impurity_split=None,\n",
              "                       min_samples_leaf=1, min_samples_split=2,\n",
              "                       min_weight_fraction_leaf=0.0, n_estimators=100,\n",
              "                       n_jobs=-1, oob_score=False, random_state=0, verbose=0,\n",
              "                       warm_start=False)"
            ]
          },
          "metadata": {
            "tags": []
          },
          "execution_count": 48
        }
      ]
    },
    {
      "cell_type": "code",
      "metadata": {
        "colab": {
          "base_uri": "https://localhost:8080/"
        },
        "id": "mMgNqn-pQi_P",
        "outputId": "23eda985-2c8d-4ed7-ffae-41ee874acbf2"
      },
      "source": [
        "print('Acurácia: ', rf_aug_clf.score(X_test, y_test))"
      ],
      "execution_count": null,
      "outputs": [
        {
          "output_type": "stream",
          "text": [
            "Acurácia:  0.9757\n"
          ],
          "name": "stdout"
        }
      ]
    },
    {
      "cell_type": "code",
      "metadata": {
        "colab": {
          "base_uri": "https://localhost:8080/"
        },
        "id": "GPqnI_EhQaOz",
        "outputId": "912c6776-537f-4300-c8f4-11be72d0f24d"
      },
      "source": [
        "y_pred_aug = rf_aug_clf.predict(X_test)\n",
        "confusion_matrix(y_test, y_pred_aug)"
      ],
      "execution_count": null,
      "outputs": [
        {
          "output_type": "execute_result",
          "data": {
            "text/plain": [
              "array([[ 971,    0,    0,    0,    0,    1,    3,    1,    3,    1],\n",
              "       [   0, 1123,    3,    2,    0,    1,    2,    0,    3,    1],\n",
              "       [   4,    0, 1015,    1,    1,    0,    1,    5,    4,    1],\n",
              "       [   0,    0,    6,  980,    0,    9,    0,    5,    8,    2],\n",
              "       [   1,    0,    1,    0,  952,    0,    6,    0,    4,   18],\n",
              "       [   3,    0,    0,   13,    3,  860,    4,    1,    7,    1],\n",
              "       [   9,    2,    0,    0,    3,    1,  941,    0,    2,    0],\n",
              "       [   1,    3,   16,    0,    1,    0,    0,  993,    3,   11],\n",
              "       [   4,    0,    1,    0,    6,    3,    2,    1,  952,    5],\n",
              "       [   9,    3,    0,    6,    6,    7,    1,    2,    5,  970]])"
            ]
          },
          "metadata": {
            "tags": []
          },
          "execution_count": 95
        }
      ]
    },
    {
      "cell_type": "code",
      "metadata": {
        "colab": {
          "base_uri": "https://localhost:8080/"
        },
        "id": "-O64YcuZGwLW",
        "outputId": "9b1f994b-3763-4be8-a142-45c2263606d7"
      },
      "source": [
        "plot_confusion_matrix(rf_aug_clf, X_test, y_test, values_format='d', cmap='binary')"
      ],
      "execution_count": null,
      "outputs": [
        {
          "output_type": "execute_result",
          "data": {
            "text/plain": [
              "<sklearn.metrics._plot.confusion_matrix.ConfusionMatrixDisplay at 0x7fda18dde5c0>"
            ]
          },
          "metadata": {
            "tags": []
          },
          "execution_count": 96
        },
        {
          "output_type": "display_data",
          "data": {
            "image/png": "[encoded data removed]",
            "text/plain": [
              "<Figure size 432x288 with 2 Axes>"
            ]
          },
          "metadata": {
            "tags": [],
            "needs_background": "light"
          }
        }
      ]
    },
    {
      "cell_type": "code",
      "metadata": {
        "colab": {
          "base_uri": "https://localhost:8080/"
        },
        "id": "_GP7OmWrGxiL",
        "outputId": "e955d62a-ab57-45d2-8622-04edd93ad8c7"
      },
      "source": [
        "print(\"Precisão (macro):\", precision_score(y_test, y_pred_aug, average='macro'))\n",
        "print(\"Recall (macro):\", recall_score(y_test, y_pred_aug, average='macro'))\n",
        "print(\"F1 (macro):\", f1_score(y_test, y_pred_aug, average='macro'))\n",
        "print(\"\\nPrecisão (micro):\", precision_score(y_test, y_pred_aug, average='micro'))\n",
        "print(\"Recall (micro):\", recall_score(y_test, y_pred_aug, average='micro'))\n",
        "print(\"F1 (micro):\", f1_score(y_test, y_pred_aug, average='micro'))"
      ],
      "execution_count": null,
      "outputs": [
        {
          "output_type": "stream",
          "text": [
            "Precisão (macro): 0.9754970484308364\n",
            "Recall (macro): 0.9754612068025541\n",
            "F1 (macro): 0.9754404998760678\n",
            "\n",
            "Precisão (micro): 0.9757\n",
            "Recall (micro): 0.9757\n",
            "F1 (micro): 0.9757\n"
          ],
          "name": "stdout"
        }
      ]
    },
    {
      "cell_type": "markdown",
      "metadata": {
        "id": "xde1wp_aHo6z"
      },
      "source": [
        "Salvando o modelo. Caso queira utilizar, os dois modelos de random forest estarão no [Drive](https://drive.google.com/drive/folders/1o6fKFfR1Jkw5RRyKI9_g-GYvQm6KLRWq?usp=sharing)."
      ]
    },
    {
      "cell_type": "code",
      "metadata": {
        "colab": {
          "base_uri": "https://localhost:8080/"
        },
        "id": "Nwcscho0G6Np",
        "outputId": "fb96fe44-e41e-4a42-b3ca-7ac16b9ff28f"
      },
      "source": [
        "# dump(rf_aug_clf, '/content/drive/MyDrive/rf_aug_clf.joblib')"
      ],
      "execution_count": null,
      "outputs": [
        {
          "output_type": "execute_result",
          "data": {
            "text/plain": [
              "['/content/drive/MyDrive/rf_aug_clf.joblib']"
            ]
          },
          "metadata": {
            "tags": []
          },
          "execution_count": 49
        }
      ]
    },
    {
      "cell_type": "markdown",
      "metadata": {
        "id": "MOeDhfQCcMHo"
      },
      "source": [
        "# 7. (Bônus) Meu próprio input!"
      ]
    },
    {
      "cell_type": "code",
      "metadata": {
        "id": "s2XS7RbQgXSJ"
      },
      "source": [
        "im_0 = Image.open('/content/0.bmp')\n",
        "im_3 = Image.open('/content/3.bmp')\n",
        "im_5 = Image.open('/content/5.bmp')\n",
        "im_6 = Image.open('/content/6.bmp')"
      ],
      "execution_count": null,
      "outputs": []
    },
    {
      "cell_type": "code",
      "metadata": {
        "colab": {
          "base_uri": "https://localhost:8080/",
          "height": 285
        },
        "id": "QFPc4QN8G5ex",
        "outputId": "b2242e08-e3ca-4177-8a30-e6703939137a"
      },
      "source": [
        "fig=plt.figure(figsize=(4, 4))\n",
        "fig.add_subplot(2, 2, 1)\n",
        "plt.imshow(im_0)\n",
        "fig.add_subplot(2, 2, 2)\n",
        "plt.imshow(im_3)\n",
        "fig.add_subplot(2, 2, 3)\n",
        "plt.imshow(im_5)\n",
        "fig.add_subplot(2, 2, 4)\n",
        "plt.imshow(im_6)"
      ],
      "execution_count": null,
      "outputs": [
        {
          "output_type": "execute_result",
          "data": {
            "text/plain": [
              "<matplotlib.image.AxesImage at 0x7fda177c1d68>"
            ]
          },
          "metadata": {
            "tags": []
          },
          "execution_count": 120
        },
        {
          "output_type": "display_data",
          "data": {
            "image/png": "[encoded data removed]",
            "text/plain": [
              "<Figure size 288x288 with 4 Axes>"
            ]
          },
          "metadata": {
            "tags": [],
            "needs_background": "light"
          }
        }
      ]
    },
    {
      "cell_type": "code",
      "metadata": {
        "id": "Htjz85Bj82Xo"
      },
      "source": [
        "im_0 = np.invert(np.array(im_0)).reshape(1,-1)\n",
        "im_3 = np.invert(np.array(im_3)).reshape(1,-1)\n",
        "im_5 = np.invert(np.array(im_5)).reshape(1,-1)\n",
        "im_6 = np.invert(np.array(im_6)).reshape(1,-1)"
      ],
      "execution_count": null,
      "outputs": []
    },
    {
      "cell_type": "markdown",
      "metadata": {
        "id": "b3MSgaRDJgUP"
      },
      "source": [
        "Usando o modelo sem augmentation."
      ]
    },
    {
      "cell_type": "code",
      "metadata": {
        "colab": {
          "base_uri": "https://localhost:8080/"
        },
        "id": "EgtcaNQV9S3N",
        "outputId": "53630c4e-88e3-4d56-85be-d8b823ac481f"
      },
      "source": [
        "print('Real: 0. Predito:', rf_clf.predict(im_0)[0])\n",
        "print('Real: 3. Predito:', rf_clf.predict(im_3)[0])\n",
        "print('Real: 5. Predito:', rf_clf.predict(im_5)[0])\n",
        "print('Real: 6. Predito:', rf_clf.predict(im_6)[0])"
      ],
      "execution_count": null,
      "outputs": [
        {
          "output_type": "stream",
          "text": [
            "Real: 0. Predito: 9\n",
            "Real: 3. Predito: 3\n",
            "Real: 5. Predito: 5\n",
            "Real: 6. Predito: 5\n"
          ],
          "name": "stdout"
        }
      ]
    },
    {
      "cell_type": "markdown",
      "metadata": {
        "id": "uR660ztnJig0"
      },
      "source": [
        "Usando o modelo COM augmentation. :OOOO"
      ]
    },
    {
      "cell_type": "code",
      "metadata": {
        "colab": {
          "base_uri": "https://localhost:8080/"
        },
        "id": "I5nZOeQy91zW",
        "outputId": "013356b4-166a-4e12-f4ca-7d89cbcb7d25"
      },
      "source": [
        "print('Real: 0. Predito:', rf_aug_clf.predict(im_0)[0])\n",
        "print('Real: 3. Predito:', rf_aug_clf.predict(im_3)[0])\n",
        "print('Real: 5. Predito:', rf_aug_clf.predict(im_5)[0])\n",
        "print('Real: 6. Predito:', rf_aug_clf.predict(im_6)[0])"
      ],
      "execution_count": null,
      "outputs": [
        {
          "output_type": "stream",
          "text": [
            "Real: 0. Predito: 0\n",
            "Real: 3. Predito: 3\n",
            "Real: 5. Predito: 5\n",
            "Real: 6. Predito: 6\n"
          ],
          "name": "stdout"
        }
      ]
    }
  ]
}